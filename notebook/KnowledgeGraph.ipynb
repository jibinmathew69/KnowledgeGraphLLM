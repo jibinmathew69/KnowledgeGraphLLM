{
 "cells": [
  {
   "cell_type": "code",
   "execution_count": 1,
   "metadata": {},
   "outputs": [
    {
     "data": {
      "text/plain": [
       "True"
      ]
     },
     "execution_count": 1,
     "metadata": {},
     "output_type": "execute_result"
    }
   ],
   "source": [
    "from dotenv import load_dotenv\n",
    "load_dotenv()"
   ]
  },
  {
   "cell_type": "code",
   "execution_count": 2,
   "metadata": {},
   "outputs": [],
   "source": [
    "import os"
   ]
  },
  {
   "cell_type": "code",
   "execution_count": 3,
   "metadata": {},
   "outputs": [],
   "source": [
    "required_env_vars = [\n",
    "    \"NEO4J_URI\",\n",
    "    \"NEO4J_USERNAME\",\n",
    "    \"NEO4J_PASSWORD\",\n",
    "    \"OPENAI_API_KEY\",\n",
    "    \"ANTHROPIC_API_KEY\"\n",
    "]\n",
    "\n",
    "for var in required_env_vars:\n",
    "    assert os.getenv(var) , f\"Environment variable {var} is not set.\""
   ]
  },
  {
   "cell_type": "markdown",
   "metadata": {},
   "source": [
    "#### We will be using anthropic API for graph creation since it gives the best results, and OpenAI for inference since it is faster and cheaper."
   ]
  },
  {
   "cell_type": "code",
   "execution_count": 4,
   "metadata": {},
   "outputs": [],
   "source": [
    "from langchain_openai import ChatOpenAI\n",
    "from langchain_anthropic import ChatAnthropic"
   ]
  },
  {
   "cell_type": "code",
   "execution_count": 5,
   "metadata": {},
   "outputs": [],
   "source": [
    "llm_anthropic = ChatAnthropic(\n",
    "    model=\"claude-3-5-sonnet-20240620\",\n",
    "    temperature=0,\n",
    "    max_tokens=4096,\n",
    "    max_retries=2\n",
    ")"
   ]
  },
  {
   "cell_type": "code",
   "execution_count": 6,
   "metadata": {},
   "outputs": [],
   "source": [
    "from langchain_core.prompts import ChatPromptTemplate, PromptTemplate"
   ]
  },
  {
   "cell_type": "code",
   "execution_count": 7,
   "metadata": {},
   "outputs": [],
   "source": [
    "system_prompt = (\n",
    "    \"# Knowledge Graph Instructions\\n\"\n",
    "    \"## 1. Overview\\n\"\n",
    "    \"You are a top-tier algorithm designed for extracting information in structured \"\n",
    "    \"formats to build a knowledge graph.\\n\"\n",
    "    \"Try to capture as much information from the text as possible without \"\n",
    "    \"sacrificing accuracy. Do not add any information that is not explicitly \"\n",
    "    \"mentioned in the text.\\n\"\n",
    "    \"- **Nodes** represent entities and concepts.\\n\"\n",
    "    \"- The aim is to achieve simplicity and clarity in the knowledge graph, making it\\n\"\n",
    "    \"accessible for a vast audience.\\n\"\n",
    "    \"## 2. Labeling Nodes\\n\"\n",
    "    \"- **Consistency**: Ensure you use available types for node labels.\\n\"\n",
    "    \"Ensure you use basic or elementary types for node labels.\\n\"\n",
    "    \"- For example, when you identify an entity representing a person, \"\n",
    "    \"always label it as **'person'**. Avoid using more specific terms \"\n",
    "    \"like 'mathematician' or 'scientist'.\"\n",
    "    \"- **Node IDs**: Never utilize integers as node IDs. Node IDs should be \"\n",
    "    \"names or human-readable identifiers found in the text.\\n\"\n",
    "    \"- **Node Names**: Create a **name** property for each node it should be names, or human-readable identifiers found in the text.\\n\"\n",
    "    \"- **Relationships** represent connections between entities or concepts.\\n\"\n",
    "    \"Ensure consistency and generality in relationship types when constructing \"\n",
    "    \"knowledge graphs. Instead of using specific and momentary types \"\n",
    "    \"such as 'BECAME_PROFESSOR', use more general and timeless relationship types \"\n",
    "    \"like 'PROFESSOR'. Make sure to use general and timeless relationship types!\\n\"\n",
    "    \"## 3. Coreference Resolution\\n\"\n",
    "    \"- **Maintain Entity Consistency**: When extracting entities, it's vital to \"\n",
    "    \"ensure consistency.\\n\"\n",
    "    'If an entity, such as \"John Doe\", is mentioned multiple times in the text '\n",
    "    'but is referred to by different names or pronouns (e.g., \"Joe\", \"he\"),'\n",
    "    \"always use the most complete identifier for that entity throughout the \"\n",
    "    'knowledge graph. In this example, use \"John Doe\" as the entity ID.\\n'\n",
    "    \"Remember, the knowledge graph should be coherent and easily understandable, \"\n",
    "    \"so maintaining consistency in entity references is crucial.\\n\"\n",
    "    \"## 4. Strict Compliance\\n\"\n",
    "    \"Adhere to the rules strictly. Non-compliance will result in termination.\"\n",
    ")\n",
    "custom_prompt = ChatPromptTemplate.from_messages(\n",
    "    [\n",
    "        (\n",
    "            \"system\",\n",
    "            system_prompt,\n",
    "        ),\n",
    "        (\n",
    "            \"human\",\n",
    "            (\n",
    "                \"Tip: Make sure to answer in the correct format and do \"\n",
    "                \"not include any explanations. \"\n",
    "                \"Make sure to **strictly** add name property for each node.\"\n",
    "                \"Remember that some information may be saved as properties of nodes and relationships, think it through add few items as properties as you see fit.\"\n",
    "                \"Use the given format to extract information from the \"\n",
    "                \"following input: {input}\"\n",
    "            ),\n",
    "        ),\n",
    "    ]\n",
    ")"
   ]
  },
  {
   "cell_type": "markdown",
   "metadata": {},
   "source": [
    "#### Updated the graph creation prompt to include the following:\n",
    "- Nodes in the graph include a **name** property.\n",
    "- Name property is made to be added stricty to the nodes.\n",
    "- Reminded to add properties to the nodes and relationships whenever necessary since properties where not emphasized by the model."
   ]
  },
  {
   "cell_type": "code",
   "execution_count": 8,
   "metadata": {},
   "outputs": [],
   "source": [
    "from langchain_experimental.graph_transformers import LLMGraphTransformer"
   ]
  },
  {
   "cell_type": "code",
   "execution_count": 9,
   "metadata": {},
   "outputs": [],
   "source": [
    "graph_maker = LLMGraphTransformer(llm=llm_anthropic, node_properties=True, relationship_properties=True, strict_mode=True, prompt=custom_prompt)"
   ]
  },
  {
   "cell_type": "markdown",
   "metadata": {},
   "source": [
    "- Setting node_properties and relationship_properties to True to ensure that the model adds properties to the nodes and relationships whenever necessary.\n",
    "- Providing properties to be extracted ensures consistency, however, since our usecase it open-ended, we will not be providing any properties to be extracted."
   ]
  },
  {
   "cell_type": "code",
   "execution_count": 10,
   "metadata": {},
   "outputs": [],
   "source": [
    "from langchain_community.document_loaders import PyPDFLoader\n",
    "\n",
    "loader = PyPDFLoader(\"../sample/mango.pdf\")\n",
    "docs = loader.load()"
   ]
  },
  {
   "cell_type": "markdown",
   "metadata": {},
   "source": [
    "Read file into documents, and then break it down into chunks considering the context size of LLMs."
   ]
  },
  {
   "cell_type": "code",
   "execution_count": 11,
   "metadata": {},
   "outputs": [],
   "source": [
    "from langchain.text_splitter import RecursiveCharacterTextSplitter\n",
    "text_splitter = RecursiveCharacterTextSplitter(chunk_size=4000, chunk_overlap=100)\n",
    "text_chunks = text_splitter.split_documents(docs)"
   ]
  },
  {
   "cell_type": "code",
   "execution_count": 12,
   "metadata": {},
   "outputs": [
    {
     "data": {
      "text/plain": [
       "7"
      ]
     },
     "execution_count": 12,
     "metadata": {},
     "output_type": "execute_result"
    }
   ],
   "source": [
    "len(text_chunks)"
   ]
  },
  {
   "cell_type": "code",
   "execution_count": 13,
   "metadata": {},
   "outputs": [],
   "source": [
    "graph_documents = graph_maker.convert_to_graph_documents(text_chunks)"
   ]
  },
  {
   "cell_type": "markdown",
   "metadata": {},
   "source": [
    "The above step takes in our text chunks and returns a list GraphDocument object containing the nodes and relationships. Since graph_maker object was given custom prompt graph would be made as per our specification."
   ]
  },
  {
   "cell_type": "code",
   "execution_count": 14,
   "metadata": {},
   "outputs": [
    {
     "data": {
      "text/plain": [
       "[Relationship(source=Node(id='Mango', type='Fruit'), target=Node(id='Mangifera Indica', type='Plant'), type='PRODUCED_BY'),\n",
       " Relationship(source=Node(id='Mangifera Indica', type='Plant'), target=Node(id='Mango_Fruit', type='Fruit'), type='PRODUCES'),\n",
       " Relationship(source=Node(id='Mangifera Indica', type='Plant'), target=Node(id='Mango_Leaf', type='Plant_part'), type='HAS_PART'),\n",
       " Relationship(source=Node(id='Mangifera Indica', type='Plant'), target=Node(id='Mango_Flower', type='Plant_part'), type='HAS_PART'),\n",
       " Relationship(source=Node(id='Bangladesh', type='Country'), target=Node(id='Mangifera Indica', type='Plant'), type='NATIONAL_TREE')]"
      ]
     },
     "execution_count": 14,
     "metadata": {},
     "output_type": "execute_result"
    }
   ],
   "source": [
    "graph_documents[0].nodes\n",
    "graph_documents[0].relationships"
   ]
  },
  {
   "cell_type": "code",
   "execution_count": 15,
   "metadata": {},
   "outputs": [],
   "source": [
    "from langchain_community.graphs import Neo4jGraph"
   ]
  },
  {
   "cell_type": "code",
   "execution_count": 16,
   "metadata": {},
   "outputs": [],
   "source": [
    "graph = Neo4jGraph(driver_config={\"max_connection_lifetime\": 3600})"
   ]
  },
  {
   "cell_type": "markdown",
   "metadata": {},
   "source": [
    "This creates a neo4j driver wrapper to interact with the neo4j database, provided by Langchain, we then use it write to our database."
   ]
  },
  {
   "cell_type": "code",
   "execution_count": 17,
   "metadata": {},
   "outputs": [],
   "source": [
    "graph.add_graph_documents(graph_documents)"
   ]
  },
  {
   "cell_type": "markdown",
   "metadata": {},
   "source": [
    "Refreshing the graph schema would show us the relationships and nodes created. We will also be give to the LLMs to create cypher queries to extract information from the graph."
   ]
  },
  {
   "cell_type": "code",
   "execution_count": 18,
   "metadata": {},
   "outputs": [
    {
     "data": {
      "text/plain": [
       "{'node_props': {'Fruit': [{'property': 'id', 'type': 'STRING'},\n",
       "   {'property': 'name', 'type': 'STRING'},\n",
       "   {'property': 'length_range', 'type': 'STRING'},\n",
       "   {'property': 'weight_range', 'type': 'STRING'},\n",
       "   {'property': 'ripening_time', 'type': 'STRING'},\n",
       "   {'property': 'national_fruit_of', 'type': 'STRING'},\n",
       "   {'property': 'scientific_name', 'type': 'STRING'},\n",
       "   {'property': 'origin', 'type': 'STRING'}],\n",
       "  'Plant': [{'property': 'id', 'type': 'STRING'},\n",
       "   {'property': 'name', 'type': 'STRING'},\n",
       "   {'property': 'scientific_name', 'type': 'STRING'},\n",
       "   {'property': 'crown_radius', 'type': 'STRING'},\n",
       "   {'property': 'common_name', 'type': 'STRING'},\n",
       "   {'property': 'lifespan', 'type': 'STRING'},\n",
       "   {'property': 'height', 'type': 'STRING'}],\n",
       "  'Plant_part': [{'property': 'id', 'type': 'STRING'},\n",
       "   {'property': 'name', 'type': 'STRING'},\n",
       "   {'property': 'arrangement', 'type': 'STRING'},\n",
       "   {'property': 'shape', 'type': 'STRING'},\n",
       "   {'property': 'length', 'type': 'STRING'},\n",
       "   {'property': 'width', 'type': 'STRING'},\n",
       "   {'property': 'type', 'type': 'STRING'},\n",
       "   {'property': 'fragrance', 'type': 'STRING'},\n",
       "   {'property': 'petal_count', 'type': 'STRING'},\n",
       "   {'property': 'petal_length', 'type': 'STRING'},\n",
       "   {'property': 'panicle_length', 'type': 'STRING'},\n",
       "   {'property': 'thickness', 'type': 'STRING'}],\n",
       "  'Country': [{'property': 'id', 'type': 'STRING'},\n",
       "   {'property': 'name', 'type': 'STRING'},\n",
       "   {'property': 'production_2022', 'type': 'STRING'}],\n",
       "  'Mango': [{'property': 'id', 'type': 'STRING'},\n",
       "   {'property': 'name', 'type': 'STRING'},\n",
       "   {'property': 'type', 'type': 'STRING'},\n",
       "   {'property': 'embryony', 'type': 'STRING'}],\n",
       "  'Location': [{'property': 'id', 'type': 'STRING'},\n",
       "   {'property': 'name', 'type': 'STRING'}],\n",
       "  'Mango_group': [{'property': 'id', 'type': 'STRING'},\n",
       "   {'property': 'name', 'type': 'STRING'},\n",
       "   {'property': 'embryony', 'type': 'STRING'}],\n",
       "  'Cultivar': [{'property': 'id', 'type': 'STRING'},\n",
       "   {'property': 'name', 'type': 'STRING'},\n",
       "   {'property': 'description', 'type': 'STRING'},\n",
       "   {'property': 'origin', 'type': 'STRING'},\n",
       "   {'property': 'location', 'type': 'STRING'},\n",
       "   {'property': 'first_fruited', 'type': 'STRING'}],\n",
       "  'Organization': [{'property': 'id', 'type': 'STRING'},\n",
       "   {'property': 'name', 'type': 'STRING'},\n",
       "   {'property': 'full_name', 'type': 'STRING'}],\n",
       "  'Mango cultivar': [{'property': 'id', 'type': 'STRING'},\n",
       "   {'property': 'name', 'type': 'STRING'},\n",
       "   {'property': 'origin', 'type': 'STRING'}],\n",
       "  'Person': [{'property': 'id', 'type': 'STRING'},\n",
       "   {'property': 'name', 'type': 'STRING'},\n",
       "   {'property': 'profession', 'type': 'STRING'}],\n",
       "  'Food': [{'property': 'id', 'type': 'STRING'},\n",
       "   {'property': 'name', 'type': 'STRING'},\n",
       "   {'property': 'taste', 'type': 'STRING'},\n",
       "   {'property': 'type', 'type': 'STRING'},\n",
       "   {'property': 'description', 'type': 'STRING'},\n",
       "   {'property': 'origin', 'type': 'STRING'}],\n",
       "  'Chemical': [{'property': 'id', 'type': 'STRING'},\n",
       "   {'property': 'name', 'type': 'STRING'}],\n",
       "  'Nutrient': [{'property': 'id', 'type': 'STRING'},\n",
       "   {'property': 'name', 'type': 'STRING'},\n",
       "   {'property': 'amount', 'type': 'STRING'},\n",
       "   {'property': 'daily_value_percentage', 'type': 'STRING'}],\n",
       "  'Substance': [{'property': 'id', 'type': 'STRING'},\n",
       "   {'property': 'name', 'type': 'STRING'}]},\n",
       " 'rel_props': {'PRODUCES': [{'property': 'year', 'type': 'STRING'},\n",
       "   {'property': 'amount', 'type': 'STRING'}],\n",
       "  'INTRODUCED_TO': [{'property': 'time_period', 'type': 'STRING'},\n",
       "   {'property': 'year', 'type': 'STRING'}],\n",
       "  'DISCOVERED': [{'property': 'year', 'type': 'STRING'},\n",
       "   {'property': 'discovery', 'type': 'STRING'}]},\n",
       " 'relationships': [{'start': 'Fruit', 'type': 'PRODUCED_BY', 'end': 'Plant'},\n",
       "  {'start': 'Fruit', 'type': 'ORIGINATED_FROM', 'end': 'Location'},\n",
       "  {'start': 'Plant', 'type': 'DOMESTICATED_IN', 'end': 'Location'},\n",
       "  {'start': 'Plant', 'type': 'INTRODUCED_TO', 'end': 'Location'},\n",
       "  {'start': 'Plant', 'type': 'CULTIVATED_IN', 'end': 'Location'},\n",
       "  {'start': 'Plant', 'type': 'PRODUCES', 'end': 'Fruit'},\n",
       "  {'start': 'Plant', 'type': 'HAS_PART', 'end': 'Plant_part'},\n",
       "  {'start': 'Plant', 'type': 'NATIONAL_TREE_OF', 'end': 'Country'},\n",
       "  {'start': 'Plant_part', 'type': 'PART_OF', 'end': 'Fruit'},\n",
       "  {'start': 'Plant_part', 'type': 'CONTAINED_IN', 'end': 'Plant_part'},\n",
       "  {'start': 'Country', 'type': 'PRODUCES', 'end': 'Fruit'},\n",
       "  {'start': 'Country', 'type': 'NATIONAL_TREE', 'end': 'Plant'},\n",
       "  {'start': 'Mango', 'type': 'BELONGS_TO', 'end': 'Mango_group'},\n",
       "  {'start': 'Location', 'type': 'PART_OF', 'end': 'Country'},\n",
       "  {'start': 'Location', 'type': 'PART_OF', 'end': 'Location'},\n",
       "  {'start': 'Location', 'type': 'PRODUCES', 'end': 'Fruit'},\n",
       "  {'start': 'Cultivar', 'type': 'VARIETY_OF', 'end': 'Plant'},\n",
       "  {'start': 'Organization', 'type': 'PART_OF', 'end': 'Organization'},\n",
       "  {'start': 'Mango cultivar', 'type': 'ORIGINATES_FROM', 'end': 'Country'},\n",
       "  {'start': 'Person', 'type': 'CITIZEN_OF', 'end': 'Country'},\n",
       "  {'start': 'Person', 'type': 'DISCOVERED', 'end': 'Fruit'},\n",
       "  {'start': 'Food', 'type': 'VARIETY_OF', 'end': 'Food'},\n",
       "  {'start': 'Food', 'type': 'CONSUMED_IN', 'end': 'Location'},\n",
       "  {'start': 'Food', 'type': 'ORIGIN', 'end': 'Location'},\n",
       "  {'start': 'Food', 'type': 'INGREDIENT_OF', 'end': 'Food'},\n",
       "  {'start': 'Food', 'type': 'CONTAINS', 'end': 'Nutrient'},\n",
       "  {'start': 'Food', 'type': 'CONTAINS', 'end': 'Substance'},\n",
       "  {'start': 'Food', 'type': 'NATIONAL_FRUIT_OF', 'end': 'Country'},\n",
       "  {'start': 'Food', 'type': 'PROCESSED_INTO', 'end': 'Food'},\n",
       "  {'start': 'Food', 'type': 'IS_A_TYPE_OF', 'end': 'Food'},\n",
       "  {'start': 'Chemical', 'type': 'FLAVOR_COMPONENT', 'end': 'Food'},\n",
       "  {'start': 'Chemical', 'type': 'CONTAINS', 'end': 'Food'},\n",
       "  {'start': 'Substance', 'type': 'CROSS_REACTS_WITH', 'end': 'Substance'}],\n",
       " 'metadata': {'constraint': [], 'index': []}}"
      ]
     },
     "execution_count": 18,
     "metadata": {},
     "output_type": "execute_result"
    }
   ],
   "source": [
    "graph.refresh_schema()\n",
    "graph.structured_schema"
   ]
  },
  {
   "cell_type": "markdown",
   "metadata": {},
   "source": [
    "We now will use neo4jupyter package to visualize the graph. It is made on top of vis.js and is good for visualizing nep4j graphs in jupyter notebooks."
   ]
  },
  {
   "cell_type": "code",
   "execution_count": 19,
   "metadata": {},
   "outputs": [
    {
     "data": {
      "application/javascript": "var link = document.createElement(\"link\");\n\tlink.rel = \"stylesheet\";\n\tlink.type = \"text/css\";\n\tlink.href = \"https://cdnjs.cloudflare.com/ajax/libs/vis/4.8.2/vis.css\";\n\tdocument.head.appendChild(link);\nrequire.config({     paths: {         vis: '//cdnjs.cloudflare.com/ajax/libs/vis/4.8.2/vis.min'     } }); require(['vis'], function(vis) {  window.vis = vis; }); ",
      "text/plain": [
       "<IPython.core.display.Javascript object>"
      ]
     },
     "metadata": {},
     "output_type": "display_data"
    }
   ],
   "source": [
    "import neo4jupyter\n",
    "neo4jupyter.init_notebook_mode()"
   ]
  },
  {
   "cell_type": "code",
   "execution_count": 20,
   "metadata": {},
   "outputs": [],
   "source": [
    "def show_graph():\n",
    "    load_dotenv()\n",
    "    NEO4J_URI = os.getenv(\"NEO4J_URI\")\n",
    "    NEW_NEO4J_URI = NEO4J_URI.replace(\"neo4j+s://\", \"bolt+s://\")\n",
    "    os.environ.pop('NEO4J_URI')\n",
    "\n",
    "    from py2neo import Graph\n",
    "    vis_graph = Graph(NEW_NEO4J_URI, auth=(os.getenv(\"NEO4J_USERNAME\"), os.getenv(\"NEO4J_PASSWORD\")))\n",
    "\n",
    "    query = \"MATCH (n) RETURN COUNT(n) AS total_nodes\"\n",
    "    result = vis_graph.run(query).data()\n",
    "\n",
    "    total_nodes = result[0]['total_nodes']\n",
    "\n",
    "    os.environ[\"NEO4J_URI\"] = NEO4J_URI\n",
    "    return neo4jupyter.draw(vis_graph,{}, limit=total_nodes)\n",
    "    "
   ]
  },
  {
   "cell_type": "markdown",
   "metadata": {},
   "source": [
    "This function will show us the graph, there is a workaround done in the function. \n",
    "It requires p2neo package to read from the neo4j database, not the Graph in py2neo reads neo4j credentials and uri directly from the environment if it exist and cannot be overridden. However, the issue is that it only support bolt protocol and the neo4j uri in environment is in neo4j+s protocol. So, we poped the uri from the environment and rewrote after visualization. "
   ]
  },
  {
   "cell_type": "code",
   "execution_count": 21,
   "metadata": {},
   "outputs": [
    {
     "data": {
      "text/html": [
       "<div id=\"b910ece7-37a0-4ae7-82a2-6317596c1d4f\" style=\"height: 400px;\"></div>\n",
       "\n",
       "<script type=\"text/javascript\">\n",
       "\n",
       "    var nodes = [{\"id\": 50, \"label\": \"\", \"group\": \"Food\", \"title\": \"Node('Food', id='Unripe Mango', name='Unripe mango', taste='Sour')\"}, {\"id\": 59, \"label\": \"\", \"group\": \"Food\", \"title\": \"Node('Food', description='Dried and powdered unripe mango', id='Amchur', name='Amchur')\"}, {\"id\": 14, \"label\": \"\", \"group\": \"Location\", \"title\": \"Node('Location', id='Philippines', name='Philippines')\"}, {\"id\": 56, \"label\": \"\", \"group\": \"Food\", \"title\": \"Node('Food', id='Andhra Aavakaaya', name='Andhra aavakaaya', type='Pickle')\"}, {\"id\": 54, \"label\": \"\", \"group\": \"Food\", \"title\": \"Node('Food', description='Thick juice made of mangoes with sugar or milk', id='Aamras', name='Aamras')\"}, {\"id\": 35, \"label\": \"\", \"group\": \"Person\", \"title\": \"Node('Person', id='Ramon Barba', name='Ramon Barba', profession='Filipino horticulturist')\"}, {\"id\": 36, \"label\": \"\", \"group\": \"Country\", \"title\": \"Node('Country', id='Philippines', name='Philippines')\"}, {\"id\": 63, \"label\": \"\", \"group\": \"Fruit\", \"title\": \"Node('Fruit', id='Mango', name='Mango', national_fruit_of='India, Pakistan, Philippines', origin='Region between northwestern Myanmar, Bangladesh, and northeastern India', scientific_name='Mangifera indica')\"}, {\"id\": 37, \"label\": \"\", \"group\": \"Fruit\", \"title\": \"Node('Fruit', id='Mango_Fruit', length_range='5-25 centimetres', name='Mango fruit', ripening_time='Four to five months from flowering', weight_range='140 grams to 2 kilograms')\"}, {\"id\": 70, \"label\": \"\", \"group\": \"Chemical\", \"title\": \"Node('Chemical', id='Mangiferin', name='Mangiferin')\"}, {\"id\": 41, \"label\": \"\", \"group\": \"Food\", \"title\": \"Node('Food', id='Mango', name='Mango')\"}, {\"id\": 24, \"label\": \"\", \"group\": \"Organization\", \"title\": \"Node('Organization', id='United Nations', name='United Nations')\"}, {\"id\": 79, \"label\": \"\", \"group\": \"Location\", \"title\": \"Node('Location', id='Northwestern_Myanmar', name='Northwestern Myanmar')\"}, {\"id\": 16, \"label\": \"\", \"group\": \"Location\", \"title\": \"Node('Location', id='Spain', name='Spain')\"}, {\"id\": 27, \"label\": \"\", \"group\": \"Location\", \"title\": \"Node('Location', id='North America', name='North America')\"}, {\"id\": 58, \"label\": \"\", \"group\": \"Food\", \"title\": \"Node('Food', description='Sweet, grated mango delicacy', id='Muramba', name='Muramba')\"}, {\"id\": 25, \"label\": \"\", \"group\": \"Location\", \"title\": \"Node('Location', id='Canary Islands', name='Canary Islands')\"}, {\"id\": 26, \"label\": \"\", \"group\": \"Country\", \"title\": \"Node('Country', id='Spain', name='Spain')\"}, {\"id\": 72, \"label\": \"\", \"group\": \"Nutrient\", \"title\": \"Node('Nutrient', amount='36.4 mg', daily_value_percentage='44%', id='Vitamin C', name='Vitamin C')\"}, {\"id\": 40, \"label\": \"\", \"group\": \"Mango cultivar\", \"title\": \"Node('Mango cultivar', id='Tommy Atkins', name='Tommy Atkins')\"}, {\"id\": 2, \"label\": \"\", \"group\": \"Mango_group\", \"title\": \"Node('Mango_group', embryony='polyembryonic', id='Southeast_Asian_Group', name='Southeast Asian Group')\"}, {\"id\": 31, \"label\": \"\", \"group\": \"Plant\", \"title\": \"Node('Plant', common_name='Mango tree', crown_radius='10-15 metres', height='30-40 metres', id='Mangifera Indica', lifespan='Over 300 years', name='Mangifera indica')\"}, {\"id\": 39, \"label\": \"\", \"group\": \"Plant_part\", \"title\": \"Node('Plant_part', arrangement='Alternate', id='Mango_Leaf', length='15-35 centimetres', name='Mango leaf', shape='Simple', type='Evergreen', width='6-16 centimetres')\"}, {\"id\": 42, \"label\": \"\", \"group\": \"Plant_part\", \"title\": \"Node('Plant_part', arrangement='Terminal panicles', fragrance='Mild, sweet', id='Mango_Flower', name='Mango flower', panicle_length='10-40 centimetres', petal_count='Five', petal_length='5-10 millimetres')\"}, {\"id\": 32, \"label\": \"\", \"group\": \"Country\", \"title\": \"Node('Country', id='Australia', name='Australia')\"}, {\"id\": 7, \"label\": \"\", \"group\": \"Cultivar\", \"title\": \"Node('Cultivar', description='prolific cultivar in Jamaica', id='Julie', name='Julie')\"}, {\"id\": 3, \"label\": \"\", \"group\": \"Plant\", \"title\": \"Node('Plant', id='Mango', name='Mango', scientific_name='Mangifera indica')\"}, {\"id\": 80, \"label\": \"\", \"group\": \"Location\", \"title\": \"Node('Location', id='Bangladesh', name='Bangladesh')\"}, {\"id\": 12, \"label\": \"\", \"group\": \"Location\", \"title\": \"Node('Location', id='Caribbean', name='Caribbean')\"}, {\"id\": 57, \"label\": \"\", \"group\": \"Food\", \"title\": \"Node('Food', description='Fruit preserves', id='Murabba', name='Murabba')\"}, {\"id\": 74, \"label\": \"\", \"group\": \"Plant\", \"title\": \"Node('Plant', id='Mango_Tree', name='Mango Tree')\"}, {\"id\": 28, \"label\": \"\", \"group\": \"Location\", \"title\": \"Node('Location', id='South Florida', name='South Florida')\"}, {\"id\": 47, \"label\": \"\", \"group\": \"Mango\", \"title\": \"Node('Mango', embryony='polyembryonic', id='Carabao', name='Carabao', type='Southeast Asian type')\"}, {\"id\": 21, \"label\": \"\", \"group\": \"Country\", \"title\": \"Node('Country', id='Mexico', name='Mexico', production_2022='2 million tonnes')\"}, {\"id\": 18, \"label\": \"\", \"group\": \"Country\", \"title\": \"Node('Country', id='Indonesia', name='Indonesia', production_2022='13.82 million tonnes')\"}, {\"id\": 0, \"label\": \"\", \"group\": \"Location\", \"title\": \"Node('Location', id='Northeastern_India', name='Northeastern India')\"}, {\"id\": 51, \"label\": \"\", \"group\": \"Location\", \"title\": \"Node('Location', id='India', name='India')\"}, {\"id\": 62, \"label\": \"\", \"group\": \"Food\", \"title\": \"Node('Food', id='Alphonso', name='Alphonso', origin='India')\"}, {\"id\": 60, \"label\": \"\", \"group\": \"Location\", \"title\": \"Node('Location', id='Central America', name='Central America')\"}, {\"id\": 23, \"label\": \"\", \"group\": \"Organization\", \"title\": \"Node('Organization', full_name='Food and Agriculture Organization Corporate Statistical Database', id='Faostat', name='FAOSTAT')\"}, {\"id\": 29, \"label\": \"\", \"group\": \"Location\", \"title\": \"Node('Location', id='California Coachella Valley', name='California Coachella Valley')\"}, {\"id\": 5, \"label\": \"\", \"group\": \"Location\", \"title\": \"Node('Location', id='South Asia', name='South Asia')\"}, {\"id\": 20, \"label\": \"\", \"group\": \"Country\", \"title\": \"Node('Country', id='Pakistan', name='Pakistan', production_2022='1.59 million tonnes')\"}, {\"id\": 30, \"label\": \"\", \"group\": \"Location\", \"title\": \"Node('Location', id='Hawaii', name='Hawaii')\"}, {\"id\": 64, \"label\": \"\", \"group\": \"Chemical\", \"title\": \"Node('Chemical', id='Lactones', name='Lactones')\"}, {\"id\": 77, \"label\": \"\", \"group\": \"Substance\", \"title\": \"Node('Substance', id='Mango Allergens', name='Mango Allergens')\"}, {\"id\": 78, \"label\": \"\", \"group\": \"Substance\", \"title\": \"Node('Substance', id='Urushiol', name='Urushiol')\"}, {\"id\": 49, \"label\": \"\", \"group\": \"Food\", \"title\": \"Node('Food', id='Mango Chutney', name='Mango chutney')\"}, {\"id\": 34, \"label\": \"\", \"group\": \"Country\", \"title\": \"Node('Country', id='Cuba', name='Cuba')\"}, {\"id\": 10, \"label\": \"\", \"group\": \"Location\", \"title\": \"Node('Location', id='West Africa', name='West Africa')\"}, {\"id\": 1, \"label\": \"\", \"group\": \"Mango_group\", \"title\": \"Node('Mango_group', embryony='monoembryonic', id='Indian_Group', name='Indian Group')\"}, {\"id\": 8, \"label\": \"\", \"group\": \"Cultivar\", \"title\": \"Node('Cultivar', first_fruited='1940', id='Tommy Atkins', location='southern Florida', name='Tommy Atkins', origin=\\\"seedling of 'Haden'\\\")\"}, {\"id\": 46, \"label\": \"\", \"group\": \"Food\", \"title\": \"Node('Food', id='Ataulfo Mango', name='Ataulfo mango')\"}, {\"id\": 4, \"label\": \"\", \"group\": \"Location\", \"title\": \"Node('Location', id='Southeast Asia', name='Southeast Asia')\"}, {\"id\": 44, \"label\": \"\", \"group\": \"Country\", \"title\": \"Node('Country', id='Bangladesh', name='Bangladesh')\"}, {\"id\": 22, \"label\": \"\", \"group\": \"Country\", \"title\": \"Node('Country', id='Brazil', name='Brazil')\"}, {\"id\": 9, \"label\": \"\", \"group\": \"Location\", \"title\": \"Node('Location', id='East Africa', name='East Africa')\"}, {\"id\": 55, \"label\": \"\", \"group\": \"Food\", \"title\": \"Node('Food', id='Mangada', name='Mangada', type='Jam')\"}, {\"id\": 38, \"label\": \"\", \"group\": \"Mango cultivar\", \"title\": \"Node('Mango cultivar', id='Alphonso', name='Alphonso')\"}, {\"id\": 61, \"label\": \"\", \"group\": \"Food\", \"title\": \"Node('Food', id='Mango Sticky Rice', name='Mango sticky rice')\"}, {\"id\": 43, \"label\": \"\", \"group\": \"Food\", \"title\": \"Node('Food', id='Carabao Mango', name='Carabao mango')\"}, {\"id\": 45, \"label\": \"\", \"group\": \"Food\", \"title\": \"Node('Food', id='Alphonso Mango', name='Alphonso mango')\"}, {\"id\": 48, \"label\": \"\", \"group\": \"Food\", \"title\": \"Node('Food', id='Mango Juice', name='Mango juice')\"}, {\"id\": 52, \"label\": \"\", \"group\": \"Food\", \"title\": \"Node('Food', id='Aam Panna', name='Aam panna', type='Summer drink')\"}, {\"id\": 53, \"label\": \"\", \"group\": \"Food\", \"title\": \"Node('Food', id='Mango Lassi', name='Mango lassi')\"}, {\"id\": 75, \"label\": \"\", \"group\": \"Nutrient\", \"title\": \"Node('Nutrient', amount='43 \\u03bcg', daily_value_percentage='11%', id='Folate', name='Folate')\"}, {\"id\": 17, \"label\": \"\", \"group\": \"Country\", \"title\": \"Node('Country', id='India', name='India', production_2022='26.34 million tonnes')\"}, {\"id\": 68, \"label\": \"\", \"group\": \"Chemical\", \"title\": \"Node('Chemical', id='Ester', name='Ester')\"}, {\"id\": 11, \"label\": \"\", \"group\": \"Location\", \"title\": \"Node('Location', id='Brazil', name='Brazil')\"}, {\"id\": 13, \"label\": \"\", \"group\": \"Location\", \"title\": \"Node('Location', id='Mexico', name='Mexico')\"}, {\"id\": 15, \"label\": \"\", \"group\": \"Location\", \"title\": \"Node('Location', id='Florida', name='Florida')\"}, {\"id\": 67, \"label\": \"\", \"group\": \"Chemical\", \"title\": \"Node('Chemical', id='Terpene', name='Terpene')\"}, {\"id\": 6, \"label\": \"\", \"group\": \"Cultivar\", \"title\": \"Node('Cultivar', description=\\\"important export product, considered 'the king of mangoes'\\\", id='Alphonso', name='Alphonso')\"}, {\"id\": 73, \"label\": \"\", \"group\": \"Plant_part\", \"title\": \"Node('Plant_part', id='Mango_Seed', length='4\\u20137 cm', name='Mango Seed')\"}, {\"id\": 71, \"label\": \"\", \"group\": \"Plant_part\", \"title\": \"Node('Plant_part', id='Mango_Pit', name='Mango Pit', thickness='1\\u20132 mm')\"}, {\"id\": 19, \"label\": \"\", \"group\": \"Country\", \"title\": \"Node('Country', id='China', name='China', production_2022='2.52 million tonnes')\"}, {\"id\": 65, \"label\": \"\", \"group\": \"Chemical\", \"title\": \"Node('Chemical', id='Furanones', name='Furanones')\"}, {\"id\": 33, \"label\": \"\", \"group\": \"Mango cultivar\", \"title\": \"Node('Mango cultivar', id='Gomera-1', name='Gomera-1', origin='Cuba')\"}, {\"id\": 76, \"label\": \"\", \"group\": \"Plant\", \"title\": \"Node('Plant', id='Mango Tree', name='Mango Tree')\"}, {\"id\": 66, \"label\": \"\", \"group\": \"Mango\", \"title\": \"Node('Mango', embryony='monoembryonic', id='Langra', name='Langra', type='Indian type')\"}, {\"id\": 69, \"label\": \"\", \"group\": \"Chemical\", \"title\": \"Node('Chemical', id='Beta-Carotene', name='Beta-carotene')\"}];\n",
       "    var edges = [{\"from\": 50, \"to\": 59, \"label\": \"PROCESSED_INTO\"}, {\"from\": 50, \"to\": 14, \"label\": \"CONSUMED_IN\"}, {\"from\": 50, \"to\": 56, \"label\": \"INGREDIENT_OF\"}, {\"from\": 35, \"to\": 36, \"label\": \"CITIZEN_OF\"}, {\"from\": 35, \"to\": 63, \"label\": \"DISCOVERED\"}, {\"from\": 70, \"to\": 41, \"label\": \"CONTAINS\"}, {\"from\": 27, \"to\": 63, \"label\": \"PRODUCES\"}, {\"from\": 25, \"to\": 26, \"label\": \"PART_OF\"}, {\"from\": 31, \"to\": 37, \"label\": \"PRODUCES\"}, {\"from\": 31, \"to\": 39, \"label\": \"HAS_PART\"}, {\"from\": 31, \"to\": 42, \"label\": \"HAS_PART\"}, {\"from\": 32, \"to\": 63, \"label\": \"PRODUCES\"}, {\"from\": 7, \"to\": 3, \"label\": \"VARIETY_OF\"}, {\"from\": 28, \"to\": 27, \"label\": \"PART_OF\"}, {\"from\": 47, \"to\": 2, \"label\": \"BELONGS_TO\"}, {\"from\": 21, \"to\": 63, \"label\": \"PRODUCES\"}, {\"from\": 18, \"to\": 63, \"label\": \"PRODUCES\"}, {\"from\": 63, \"to\": 31, \"label\": \"PRODUCED_BY\"}, {\"from\": 63, \"to\": 74, \"label\": \"PRODUCED_BY\"}, {\"from\": 63, \"to\": 0, \"label\": \"ORIGINATED_FROM\"}, {\"from\": 63, \"to\": 79, \"label\": \"ORIGINATED_FROM\"}, {\"from\": 63, \"to\": 80, \"label\": \"ORIGINATED_FROM\"}, {\"from\": 62, \"to\": 41, \"label\": \"IS_A_TYPE_OF\"}, {\"from\": 23, \"to\": 24, \"label\": \"PART_OF\"}, {\"from\": 26, \"to\": 63, \"label\": \"PRODUCES\"}, {\"from\": 29, \"to\": 27, \"label\": \"PART_OF\"}, {\"from\": 20, \"to\": 63, \"label\": \"PRODUCES\"}, {\"from\": 30, \"to\": 63, \"label\": \"PRODUCES\"}, {\"from\": 64, \"to\": 62, \"label\": \"FLAVOR_COMPONENT\"}, {\"from\": 77, \"to\": 78, \"label\": \"CROSS_REACTS_WITH\"}, {\"from\": 8, \"to\": 3, \"label\": \"VARIETY_OF\"}, {\"from\": 44, \"to\": 31, \"label\": \"NATIONAL_TREE\"}, {\"from\": 22, \"to\": 63, \"label\": \"PRODUCES\"}, {\"from\": 41, \"to\": 43, \"label\": \"VARIETY_OF\"}, {\"from\": 41, \"to\": 45, \"label\": \"VARIETY_OF\"}, {\"from\": 41, \"to\": 46, \"label\": \"VARIETY_OF\"}, {\"from\": 41, \"to\": 48, \"label\": \"PROCESSED_INTO\"}, {\"from\": 41, \"to\": 49, \"label\": \"PROCESSED_INTO\"}, {\"from\": 41, \"to\": 57, \"label\": \"PROCESSED_INTO\"}, {\"from\": 41, \"to\": 58, \"label\": \"PROCESSED_INTO\"}, {\"from\": 41, \"to\": 4, \"label\": \"CONSUMED_IN\"}, {\"from\": 41, \"to\": 60, \"label\": \"CONSUMED_IN\"}, {\"from\": 41, \"to\": 51, \"label\": \"ORIGIN\"}, {\"from\": 41, \"to\": 52, \"label\": \"INGREDIENT_OF\"}, {\"from\": 41, \"to\": 53, \"label\": \"INGREDIENT_OF\"}, {\"from\": 41, \"to\": 54, \"label\": \"INGREDIENT_OF\"}, {\"from\": 41, \"to\": 55, \"label\": \"INGREDIENT_OF\"}, {\"from\": 41, \"to\": 61, \"label\": \"INGREDIENT_OF\"}, {\"from\": 41, \"to\": 72, \"label\": \"CONTAINS\"}, {\"from\": 41, \"to\": 75, \"label\": \"CONTAINS\"}, {\"from\": 41, \"to\": 77, \"label\": \"CONTAINS\"}, {\"from\": 41, \"to\": 17, \"label\": \"NATIONAL_FRUIT_OF\"}, {\"from\": 68, \"to\": 41, \"label\": \"FLAVOR_COMPONENT\"}, {\"from\": 3, \"to\": 4, \"label\": \"DOMESTICATED_IN\"}, {\"from\": 3, \"to\": 5, \"label\": \"DOMESTICATED_IN\"}, {\"from\": 3, \"to\": 9, \"label\": \"INTRODUCED_TO\"}, {\"from\": 3, \"to\": 10, \"label\": \"INTRODUCED_TO\"}, {\"from\": 3, \"to\": 11, \"label\": \"INTRODUCED_TO\"}, {\"from\": 3, \"to\": 12, \"label\": \"INTRODUCED_TO\"}, {\"from\": 3, \"to\": 13, \"label\": \"INTRODUCED_TO\"}, {\"from\": 3, \"to\": 14, \"label\": \"INTRODUCED_TO\"}, {\"from\": 3, \"to\": 15, \"label\": \"INTRODUCED_TO\"}, {\"from\": 3, \"to\": 16, \"label\": \"CULTIVATED_IN\"}, {\"from\": 17, \"to\": 63, \"label\": \"PRODUCES\"}, {\"from\": 67, \"to\": 41, \"label\": \"FLAVOR_COMPONENT\"}, {\"from\": 6, \"to\": 3, \"label\": \"VARIETY_OF\"}, {\"from\": 73, \"to\": 71, \"label\": \"CONTAINED_IN\"}, {\"from\": 53, \"to\": 5, \"label\": \"CONSUMED_IN\"}, {\"from\": 19, \"to\": 63, \"label\": \"PRODUCES\"}, {\"from\": 71, \"to\": 63, \"label\": \"PART_OF\"}, {\"from\": 65, \"to\": 62, \"label\": \"FLAVOR_COMPONENT\"}, {\"from\": 33, \"to\": 34, \"label\": \"ORIGINATES_FROM\"}, {\"from\": 76, \"to\": 44, \"label\": \"NATIONAL_TREE_OF\"}, {\"from\": 66, \"to\": 1, \"label\": \"BELONGS_TO\"}, {\"from\": 69, \"to\": 41, \"label\": \"CONTAINS\"}];\n",
       "\n",
       "    var container = document.getElementById(\"b910ece7-37a0-4ae7-82a2-6317596c1d4f\");\n",
       "\n",
       "    var data = {\n",
       "        nodes: nodes,\n",
       "        edges: edges\n",
       "    };\n",
       "\n",
       "    var options = {\n",
       "    nodes: {\n",
       "        shape: 'dot',\n",
       "        size: 25,\n",
       "        font: {\n",
       "            size: 14\n",
       "        }\n",
       "    },\n",
       "    edges: {\n",
       "        font: {\n",
       "            size: 14,\n",
       "            align: 'middle'\n",
       "        },\n",
       "        color: 'gray',\n",
       "        arrows: {\n",
       "            to: {\n",
       "                enabled: true,\n",
       "                scaleFactor: 0.5\n",
       "            }\n",
       "        },\n",
       "        smooth: {\n",
       "            enabled: false\n",
       "        }\n",
       "    },\n",
       "    physics: {\n",
       "        enabled: true\n",
       "        }\n",
       "    };\n",
       "\n",
       "    var network = new vis.Network(container, data, options);\n",
       "\n",
       "</script>\n"
      ],
      "text/plain": [
       "<IPython.core.display.HTML object>"
      ]
     },
     "execution_count": 21,
     "metadata": {},
     "output_type": "execute_result"
    }
   ],
   "source": [
    "show_graph()"
   ]
  },
  {
   "cell_type": "markdown",
   "metadata": {},
   "source": [
    "After visualization, we see that there has been a lot of nodes that are similar with slight variations, this leads to disjointed nodes or nodes that cannot be reasoned by the LLMs. We will now merge the nodes that are similar to each other. We will do disambiguation with a custom prompt."
   ]
  },
  {
   "cell_type": "code",
   "execution_count": 22,
   "metadata": {},
   "outputs": [],
   "source": [
    "\n",
    "system_prompt = \"\"\"\n",
    "Act as a entity disambiugation tool and tell me which values reference the same entity. \n",
    "For example if I give you\n",
    "\n",
    "Birds\n",
    "Bird\n",
    "Ant\n",
    "\n",
    "You return to me\n",
    "\n",
    "Birds, 1\n",
    "Bird, 1\n",
    "Ant, 2\n",
    "\n",
    "As the Bird and Birds values have the same integer assigned to them, it means that they reference the same entity.\n",
    "\n",
    "\"\"\"\n",
    "\n",
    "disambiguate_prompt = ChatPromptTemplate.from_messages(\n",
    "    [\n",
    "        (\n",
    "            \"system\",\n",
    "            system_prompt,\n",
    "        ),\n",
    "        (\n",
    "            \"human\",\n",
    "            (                \n",
    "                \"Perform disambiguation on the following values: \\n{input}\"\n",
    "            ),\n",
    "        ),\n",
    "    ]\n",
    ")"
   ]
  },
  {
   "cell_type": "markdown",
   "metadata": {},
   "source": [
    "We now define pydantic classes to define the return types of the function calling feature in Claude/ OpenAI LLMs."
   ]
  },
  {
   "cell_type": "code",
   "execution_count": 23,
   "metadata": {},
   "outputs": [],
   "source": [
    "from langchain_core.pydantic_v1 import BaseModel, Field\n",
    "from typing import List\n",
    "\n",
    "class DisambiguatedNode(BaseModel):\n",
    "    \"\"\"Get the node name and id from the collection of nodes\"\"\"\n",
    "    name: str = Field(..., title=\"Disambiquated name for the entity\")\n",
    "    id: int = Field(..., title=\"Disambiquated id for the entity\")\n",
    "\n",
    "class DisambiguatedNodeList(BaseModel):\n",
    "    \"\"\"Get the node name and id from the collection of nodes\"\"\"\n",
    "    nodes: List[DisambiguatedNode] = Field(..., title=\"List of disambiguated nodes\")"
   ]
  },
  {
   "cell_type": "code",
   "execution_count": 24,
   "metadata": {},
   "outputs": [],
   "source": [
    "llm_openai = ChatOpenAI(model=\"gpt-4-turbo\", temperature=0)"
   ]
  },
  {
   "cell_type": "code",
   "execution_count": 25,
   "metadata": {},
   "outputs": [],
   "source": [
    "disambiguation_chain = disambiguate_prompt | llm_openai.with_structured_output(DisambiguatedNodeList)"
   ]
  },
  {
   "cell_type": "markdown",
   "metadata": {},
   "source": [
    "We created a disambiguation chain that takes the prompt and runs it through LLM, and returns returns the disambiguated nodes after receiving the structured output as per out definition for function calling."
   ]
  },
  {
   "cell_type": "code",
   "execution_count": 26,
   "metadata": {},
   "outputs": [
    {
     "name": "stderr",
     "output_type": "stream",
     "text": [
      "Received notification from DBMS server: {severity: WARNING} {code: Neo.ClientNotification.Statement.UnknownLabelWarning} {category: UNRECOGNIZED} {title: The provided label is not in the database.} {description: One of the labels in your query is not available in the database, make sure you didn't misspell it or that the label is available when you run this statement in your application (the missing label name is: Chunk)} {position: line: 1, column: 23, offset: 22} for query: 'MATCH (n) WHERE NOT n:Chunk RETURN n.name as name'\n"
     ]
    }
   ],
   "source": [
    "node_names = graph.query(\"MATCH (n) WHERE NOT n:Chunk RETURN n.name as name\")"
   ]
  },
  {
   "cell_type": "markdown",
   "metadata": {},
   "source": [
    "Note: We ignore nodes with label Chunk, as those are used to store embedding chunks, we haven't used them in this case, but may exist in the db from a different operation."
   ]
  },
  {
   "cell_type": "code",
   "execution_count": 27,
   "metadata": {},
   "outputs": [
    {
     "data": {
      "text/plain": [
       "[{'name': 'Northeastern India'},\n",
       " {'name': 'Indian Group'},\n",
       " {'name': 'Southeast Asian Group'},\n",
       " {'name': 'Mango'},\n",
       " {'name': 'Southeast Asia'}]"
      ]
     },
     "execution_count": 27,
     "metadata": {},
     "output_type": "execute_result"
    }
   ],
   "source": [
    "node_names[:5]"
   ]
  },
  {
   "cell_type": "code",
   "execution_count": 28,
   "metadata": {},
   "outputs": [],
   "source": [
    "node_names_list = [name[\"name\"] for name in node_names]"
   ]
  },
  {
   "cell_type": "code",
   "execution_count": 29,
   "metadata": {},
   "outputs": [
    {
     "data": {
      "text/plain": [
       "['Northeastern India',\n",
       " 'Indian Group',\n",
       " 'Southeast Asian Group',\n",
       " 'Mango',\n",
       " 'Southeast Asia']"
      ]
     },
     "execution_count": 29,
     "metadata": {},
     "output_type": "execute_result"
    }
   ],
   "source": [
    "node_names_list[:5]"
   ]
  },
  {
   "cell_type": "code",
   "execution_count": 30,
   "metadata": {},
   "outputs": [],
   "source": [
    "response = disambiguation_chain.invoke({\"input\": \"\\n\".join(node_names_list)})"
   ]
  },
  {
   "cell_type": "markdown",
   "metadata": {},
   "source": [
    "We invoked the disambiguation chain on the node names and assigned same id to the nodes that are similar to each other."
   ]
  },
  {
   "cell_type": "code",
   "execution_count": 31,
   "metadata": {},
   "outputs": [
    {
     "data": {
      "text/plain": [
       "[{'name': 'Northeastern India', 'id': 1},\n",
       " {'name': 'Indian Group', 'id': 2},\n",
       " {'name': 'Southeast Asian Group', 'id': 3},\n",
       " {'name': 'Mango', 'id': 4},\n",
       " {'name': 'Southeast Asia', 'id': 5},\n",
       " {'name': 'South Asia', 'id': 6},\n",
       " {'name': 'Alphonso', 'id': 7},\n",
       " {'name': 'Julie', 'id': 8},\n",
       " {'name': 'Tommy Atkins', 'id': 9},\n",
       " {'name': 'East Africa', 'id': 10}]"
      ]
     },
     "execution_count": 31,
     "metadata": {},
     "output_type": "execute_result"
    }
   ],
   "source": [
    "response.dict()[\"nodes\"][:10]"
   ]
  },
  {
   "cell_type": "code",
   "execution_count": 32,
   "metadata": {},
   "outputs": [],
   "source": [
    "node_clusters = [[node[\"name\"], node[\"id\"]] for node in response.dict()[\"nodes\"]]"
   ]
  },
  {
   "cell_type": "code",
   "execution_count": 33,
   "metadata": {},
   "outputs": [
    {
     "data": {
      "text/plain": [
       "[['Northeastern India', 1],\n",
       " ['Indian Group', 2],\n",
       " ['Southeast Asian Group', 3],\n",
       " ['Mango', 4],\n",
       " ['Southeast Asia', 5],\n",
       " ['South Asia', 6],\n",
       " ['Alphonso', 7],\n",
       " ['Julie', 8],\n",
       " ['Tommy Atkins', 9],\n",
       " ['East Africa', 10]]"
      ]
     },
     "execution_count": 33,
     "metadata": {},
     "output_type": "execute_result"
    }
   ],
   "source": [
    "node_clusters[:10]"
   ]
  },
  {
   "cell_type": "code",
   "execution_count": 34,
   "metadata": {},
   "outputs": [],
   "source": [
    "cluster_map = {}\n",
    "for cluster_name, cluster_id in node_clusters:\n",
    "    if cluster_id not in cluster_map:\n",
    "        cluster_map[cluster_id] = cluster_name.capitalize()"
   ]
  },
  {
   "cell_type": "code",
   "execution_count": 35,
   "metadata": {},
   "outputs": [],
   "source": [
    "mapped_nodes = []\n",
    "for cluster_name, cluster_id in node_clusters:\n",
    "    mapped_nodes.append([cluster_name,cluster_map[cluster_id]])"
   ]
  },
  {
   "cell_type": "markdown",
   "metadata": {},
   "source": [
    "We created the name to which the nodes of the same clusters are to be renamed to."
   ]
  },
  {
   "cell_type": "code",
   "execution_count": 36,
   "metadata": {},
   "outputs": [
    {
     "data": {
      "text/plain": [
       "[['Northeastern India', 'Northeastern india'],\n",
       " ['Indian Group', 'Indian group'],\n",
       " ['Southeast Asian Group', 'Southeast asian group'],\n",
       " ['Mango', 'Mango'],\n",
       " ['Southeast Asia', 'Southeast asia'],\n",
       " ['South Asia', 'South asia'],\n",
       " ['Alphonso', 'Alphonso'],\n",
       " ['Julie', 'Julie'],\n",
       " ['Tommy Atkins', 'Tommy atkins'],\n",
       " ['East Africa', 'East africa']]"
      ]
     },
     "execution_count": 36,
     "metadata": {},
     "output_type": "execute_result"
    }
   ],
   "source": [
    "mapped_nodes[:10]"
   ]
  },
  {
   "cell_type": "code",
   "execution_count": 37,
   "metadata": {},
   "outputs": [
    {
     "data": {
      "text/plain": [
       "[]"
      ]
     },
     "execution_count": 37,
     "metadata": {},
     "output_type": "execute_result"
    }
   ],
   "source": [
    "node_rename_cypher = \"\"\"\n",
    "UNWIND $mapping as pair\n",
    "MATCH (n {name: pair[0]})\n",
    "SET n.name = pair[1]\n",
    "\"\"\"\n",
    "\n",
    "\n",
    "graph.query(node_rename_cypher,{\n",
    "    \"mapping\": mapped_nodes\n",
    "})"
   ]
  },
  {
   "cell_type": "markdown",
   "metadata": {},
   "source": [
    "We renamed the nodes in the db"
   ]
  },
  {
   "cell_type": "code",
   "execution_count": 38,
   "metadata": {},
   "outputs": [
    {
     "data": {
      "text/plain": [
       "[{'node': {'name': 'Northeastern india', 'id': 'Northeastern_India'}},\n",
       " {'node': {'name': 'Indian group',\n",
       "   'embryony': 'monoembryonic',\n",
       "   'id': 'Indian_Group'}},\n",
       " {'node': {'name': 'Southeast asian group',\n",
       "   'embryony': 'polyembryonic',\n",
       "   'id': 'Southeast_Asian_Group'}},\n",
       " {'node': {'name': 'Mango',\n",
       "   'national_fruit_of': 'India, Pakistan, Philippines',\n",
       "   'scientific_name': 'Mangifera indica',\n",
       "   'id': 'Mango',\n",
       "   'origin': 'Region between northwestern Myanmar, Bangladesh, and northeastern India'}},\n",
       " {'node': {'name': 'Southeast asia', 'id': 'Southeast Asia'}},\n",
       " {'node': {'name': 'South asia', 'id': 'South Asia'}},\n",
       " {'node': {'name': 'Alphonso',\n",
       "   'description': \"important export product, considered 'the king of mangoes'\",\n",
       "   'id': 'Alphonso',\n",
       "   'origin': 'India'}},\n",
       " {'node': {'name': 'Julie',\n",
       "   'description': 'prolific cultivar in Jamaica',\n",
       "   'id': 'Julie'}},\n",
       " {'node': {'name': 'Tommy atkins',\n",
       "   'location': 'southern Florida',\n",
       "   'id': 'Tommy Atkins',\n",
       "   'first_fruited': '1940',\n",
       "   'origin': \"seedling of 'Haden'\"}},\n",
       " {'node': {'name': 'East africa', 'id': 'East Africa'}},\n",
       " {'node': {'name': 'West africa', 'id': 'West Africa'}},\n",
       " {'node': {'name': 'Brazil', 'id': 'Brazil'}},\n",
       " {'node': {'name': 'Caribbean', 'id': 'Caribbean'}},\n",
       " {'node': {'name': 'Mexico',\n",
       "   'id': 'Mexico',\n",
       "   'production_2022': '2 million tonnes'}},\n",
       " {'node': {'name': 'Philippines', 'id': 'Philippines'}},\n",
       " {'node': {'name': 'Florida', 'id': 'Florida'}},\n",
       " {'node': {'name': 'Spain', 'id': 'Spain'}},\n",
       " {'node': {'name': 'India',\n",
       "   'id': 'India',\n",
       "   'production_2022': '26.34 million tonnes'}},\n",
       " {'node': {'name': 'Indonesia',\n",
       "   'id': 'Indonesia',\n",
       "   'production_2022': '13.82 million tonnes'}},\n",
       " {'node': {'name': 'China',\n",
       "   'id': 'China',\n",
       "   'production_2022': '2.52 million tonnes'}},\n",
       " {'node': {'name': 'Pakistan',\n",
       "   'id': 'Pakistan',\n",
       "   'production_2022': '1.59 million tonnes'}},\n",
       " {'node': {'name': 'Faostat',\n",
       "   'full_name': 'Food and Agriculture Organization Corporate Statistical Database',\n",
       "   'id': 'Faostat'}},\n",
       " {'node': {'name': 'United nations', 'id': 'United Nations'}},\n",
       " {'node': {'name': 'Canary islands', 'id': 'Canary Islands'}},\n",
       " {'node': {'name': 'North america', 'id': 'North America'}},\n",
       " {'node': {'name': 'South florida', 'id': 'South Florida'}},\n",
       " {'node': {'name': 'California coachella valley',\n",
       "   'id': 'California Coachella Valley'}},\n",
       " {'node': {'name': 'Hawaii', 'id': 'Hawaii'}},\n",
       " {'node': {'lifespan': 'Over 300 years',\n",
       "   'name': 'Mangifera indica',\n",
       "   'id': 'Mangifera Indica',\n",
       "   'crown_radius': '10-15 metres',\n",
       "   'common_name': 'Mango tree',\n",
       "   'height': '30-40 metres'}},\n",
       " {'node': {'name': 'Australia', 'id': 'Australia'}},\n",
       " {'node': {'name': 'Gomera-1', 'id': 'Gomera-1', 'origin': 'Cuba'}},\n",
       " {'node': {'name': 'Cuba', 'id': 'Cuba'}},\n",
       " {'node': {'profession': 'Filipino horticulturist',\n",
       "   'name': 'Ramon barba',\n",
       "   'id': 'Ramon Barba'}},\n",
       " {'node': {'length_range': '5-25 centimetres',\n",
       "   'name': 'Mango fruit',\n",
       "   'weight_range': '140 grams to 2 kilograms',\n",
       "   'id': 'Mango_Fruit',\n",
       "   'ripening_time': 'Four to five months from flowering'}},\n",
       " {'node': {'arrangement': 'Alternate',\n",
       "   'shape': 'Simple',\n",
       "   'name': 'Mango leaf',\n",
       "   'length': '15-35 centimetres',\n",
       "   'width': '6-16 centimetres',\n",
       "   'id': 'Mango_Leaf',\n",
       "   'type': 'Evergreen'}},\n",
       " {'node': {'arrangement': 'Terminal panicles',\n",
       "   'fragrance': 'Mild, sweet',\n",
       "   'name': 'Mango flower',\n",
       "   'petal_count': 'Five',\n",
       "   'id': 'Mango_Flower',\n",
       "   'petal_length': '5-10 millimetres',\n",
       "   'panicle_length': '10-40 centimetres'}},\n",
       " {'node': {'name': 'Carabao mango', 'id': 'Carabao Mango'}},\n",
       " {'node': {'name': 'Bangladesh', 'id': 'Bangladesh'}},\n",
       " {'node': {'name': 'Alphonso mango', 'id': 'Alphonso Mango'}},\n",
       " {'node': {'name': 'Ataulfo mango', 'id': 'Ataulfo Mango'}},\n",
       " {'node': {'name': 'Carabao',\n",
       "   'embryony': 'polyembryonic',\n",
       "   'id': 'Carabao',\n",
       "   'type': 'Southeast Asian type'}},\n",
       " {'node': {'name': 'Mango juice', 'id': 'Mango Juice'}},\n",
       " {'node': {'name': 'Mango chutney', 'id': 'Mango Chutney'}},\n",
       " {'node': {'name': 'Unripe mango', 'id': 'Unripe Mango', 'taste': 'Sour'}},\n",
       " {'node': {'name': 'Aam panna', 'id': 'Aam Panna', 'type': 'Summer drink'}},\n",
       " {'node': {'name': 'Mango lassi', 'id': 'Mango Lassi'}},\n",
       " {'node': {'name': 'Aamras',\n",
       "   'description': 'Thick juice made of mangoes with sugar or milk',\n",
       "   'id': 'Aamras'}},\n",
       " {'node': {'name': 'Mangada', 'id': 'Mangada', 'type': 'Jam'}},\n",
       " {'node': {'name': 'Andhra aavakaaya',\n",
       "   'id': 'Andhra Aavakaaya',\n",
       "   'type': 'Pickle'}},\n",
       " {'node': {'name': 'Murabba',\n",
       "   'description': 'Fruit preserves',\n",
       "   'id': 'Murabba'}},\n",
       " {'node': {'name': 'Muramba',\n",
       "   'description': 'Sweet, grated mango delicacy',\n",
       "   'id': 'Muramba'}},\n",
       " {'node': {'name': 'Amchur',\n",
       "   'description': 'Dried and powdered unripe mango',\n",
       "   'id': 'Amchur'}},\n",
       " {'node': {'name': 'Central america', 'id': 'Central America'}},\n",
       " {'node': {'name': 'Mango sticky rice', 'id': 'Mango Sticky Rice'}},\n",
       " {'node': {'name': 'Lactones', 'id': 'Lactones'}},\n",
       " {'node': {'name': 'Furanones', 'id': 'Furanones'}},\n",
       " {'node': {'name': 'Langra',\n",
       "   'embryony': 'monoembryonic',\n",
       "   'id': 'Langra',\n",
       "   'type': 'Indian type'}},\n",
       " {'node': {'name': 'Terpene', 'id': 'Terpene'}},\n",
       " {'node': {'name': 'Ester', 'id': 'Ester'}},\n",
       " {'node': {'name': 'Beta-carotene', 'id': 'Beta-Carotene'}},\n",
       " {'node': {'name': 'Mangiferin', 'id': 'Mangiferin'}},\n",
       " {'node': {'name': 'Mango pit', 'id': 'Mango_Pit', 'thickness': '1–2 mm'}},\n",
       " {'node': {'name': 'Vitamin c',\n",
       "   'daily_value_percentage': '44%',\n",
       "   'amount': '36.4 mg',\n",
       "   'id': 'Vitamin C'}},\n",
       " {'node': {'name': 'Mango seed', 'length': '4–7 cm', 'id': 'Mango_Seed'}},\n",
       " {'node': {'name': 'Mango tree', 'id': ['Mango_Tree', 'Mango Tree']}},\n",
       " {'node': {'name': 'Folate',\n",
       "   'daily_value_percentage': '11%',\n",
       "   'amount': '43 μg',\n",
       "   'id': 'Folate'}},\n",
       " {'node': {'name': 'Mango allergens', 'id': 'Mango Allergens'}},\n",
       " {'node': {'name': 'Urushiol', 'id': 'Urushiol'}},\n",
       " {'node': {'name': 'Northwestern myanmar', 'id': 'Northwestern_Myanmar'}}]"
      ]
     },
     "execution_count": 38,
     "metadata": {},
     "output_type": "execute_result"
    }
   ],
   "source": [
    "node_merge_cypher = \"\"\"\n",
    "MATCH (n)\n",
    "WHERE NOT 'Chunk' IN labels(n)\n",
    "WITH n.name as nodeId, collect(n) as nodes\n",
    "CALL apoc.refactor.mergeNodes(nodes, {properties: \"combine\", mergeRels: true})\n",
    "YIELD node\n",
    "RETURN node;\n",
    "\"\"\"\n",
    "\n",
    "graph.query(node_merge_cypher)"
   ]
  },
  {
   "cell_type": "markdown",
   "metadata": {},
   "source": [
    "We now merge the nodes with same name property, this is why we forced the LLM earlier to add name property, any arbitrary property name could be chose, name happened to be easier for the LLM to extract."
   ]
  },
  {
   "cell_type": "code",
   "execution_count": 39,
   "metadata": {},
   "outputs": [
    {
     "data": {
      "text/plain": [
       "{'node_props': {'Fruit': [{'property': 'id', 'type': 'STRING'},\n",
       "   {'property': 'name', 'type': 'STRING'},\n",
       "   {'property': 'national_fruit_of', 'type': 'STRING'},\n",
       "   {'property': 'scientific_name', 'type': 'STRING'},\n",
       "   {'property': 'origin', 'type': 'STRING'},\n",
       "   {'property': 'length_range', 'type': 'STRING'},\n",
       "   {'property': 'weight_range', 'type': 'STRING'},\n",
       "   {'property': 'ripening_time', 'type': 'STRING'}],\n",
       "  'Plant': [{'property': 'id', 'type': 'STRING'},\n",
       "   {'property': 'name', 'type': 'STRING'},\n",
       "   {'property': 'national_fruit_of', 'type': 'STRING'},\n",
       "   {'property': 'scientific_name', 'type': 'STRING'},\n",
       "   {'property': 'origin', 'type': 'STRING'},\n",
       "   {'property': 'crown_radius', 'type': 'STRING'},\n",
       "   {'property': 'common_name', 'type': 'STRING'},\n",
       "   {'property': 'lifespan', 'type': 'STRING'},\n",
       "   {'property': 'height', 'type': 'STRING'}],\n",
       "  'Plant_part': [{'property': 'id', 'type': 'STRING'},\n",
       "   {'property': 'name', 'type': 'STRING'},\n",
       "   {'property': 'arrangement', 'type': 'STRING'},\n",
       "   {'property': 'shape', 'type': 'STRING'},\n",
       "   {'property': 'length', 'type': 'STRING'},\n",
       "   {'property': 'width', 'type': 'STRING'},\n",
       "   {'property': 'type', 'type': 'STRING'},\n",
       "   {'property': 'fragrance', 'type': 'STRING'},\n",
       "   {'property': 'petal_count', 'type': 'STRING'},\n",
       "   {'property': 'petal_length', 'type': 'STRING'},\n",
       "   {'property': 'panicle_length', 'type': 'STRING'},\n",
       "   {'property': 'thickness', 'type': 'STRING'}],\n",
       "  'Country': [{'property': 'id', 'type': 'STRING'},\n",
       "   {'property': 'name', 'type': 'STRING'},\n",
       "   {'property': 'production_2022', 'type': 'STRING'}],\n",
       "  'Mango': [{'property': 'id', 'type': 'STRING'},\n",
       "   {'property': 'name', 'type': 'STRING'},\n",
       "   {'property': 'type', 'type': 'STRING'},\n",
       "   {'property': 'embryony', 'type': 'STRING'}],\n",
       "  'Location': [{'property': 'id', 'type': 'STRING'},\n",
       "   {'property': 'name', 'type': 'STRING'},\n",
       "   {'property': 'production_2022', 'type': 'STRING'}],\n",
       "  'Mango_group': [{'property': 'id', 'type': 'STRING'},\n",
       "   {'property': 'name', 'type': 'STRING'},\n",
       "   {'property': 'embryony', 'type': 'STRING'}],\n",
       "  'Cultivar': [{'property': 'id', 'type': 'STRING'},\n",
       "   {'property': 'name', 'type': 'STRING'},\n",
       "   {'property': 'origin', 'type': 'STRING'},\n",
       "   {'property': 'description', 'type': 'STRING'},\n",
       "   {'property': 'location', 'type': 'STRING'},\n",
       "   {'property': 'first_fruited', 'type': 'STRING'}],\n",
       "  'Organization': [{'property': 'id', 'type': 'STRING'},\n",
       "   {'property': 'name', 'type': 'STRING'},\n",
       "   {'property': 'full_name', 'type': 'STRING'}],\n",
       "  'Mango cultivar': [{'property': 'id', 'type': 'STRING'},\n",
       "   {'property': 'name', 'type': 'STRING'},\n",
       "   {'property': 'origin', 'type': 'STRING'},\n",
       "   {'property': 'description', 'type': 'STRING'},\n",
       "   {'property': 'location', 'type': 'STRING'},\n",
       "   {'property': 'first_fruited', 'type': 'STRING'}],\n",
       "  'Person': [{'property': 'id', 'type': 'STRING'},\n",
       "   {'property': 'name', 'type': 'STRING'},\n",
       "   {'property': 'profession', 'type': 'STRING'}],\n",
       "  'Food': [{'property': 'id', 'type': 'STRING'},\n",
       "   {'property': 'name', 'type': 'STRING'},\n",
       "   {'property': 'national_fruit_of', 'type': 'STRING'},\n",
       "   {'property': 'scientific_name', 'type': 'STRING'},\n",
       "   {'property': 'origin', 'type': 'STRING'},\n",
       "   {'property': 'description', 'type': 'STRING'},\n",
       "   {'property': 'taste', 'type': 'STRING'},\n",
       "   {'property': 'type', 'type': 'STRING'}],\n",
       "  'Chemical': [{'property': 'id', 'type': 'STRING'},\n",
       "   {'property': 'name', 'type': 'STRING'}],\n",
       "  'Nutrient': [{'property': 'id', 'type': 'STRING'},\n",
       "   {'property': 'name', 'type': 'STRING'},\n",
       "   {'property': 'amount', 'type': 'STRING'},\n",
       "   {'property': 'daily_value_percentage', 'type': 'STRING'}],\n",
       "  'Substance': [{'property': 'id', 'type': 'STRING'},\n",
       "   {'property': 'name', 'type': 'STRING'}]},\n",
       " 'rel_props': {'PRODUCES': [{'property': 'year', 'type': 'STRING'},\n",
       "   {'property': 'amount', 'type': 'STRING'}],\n",
       "  'INTRODUCED_TO': [{'property': 'time_period', 'type': 'STRING'},\n",
       "   {'property': 'year', 'type': 'STRING'}],\n",
       "  'DISCOVERED': [{'property': 'year', 'type': 'STRING'},\n",
       "   {'property': 'discovery', 'type': 'STRING'}]},\n",
       " 'relationships': [{'start': 'Fruit', 'type': 'PRODUCED_BY', 'end': 'Plant'},\n",
       "  {'start': 'Fruit', 'type': 'ORIGINATED_FROM', 'end': 'Location'},\n",
       "  {'start': 'Fruit', 'type': 'ORIGINATED_FROM', 'end': 'Country'},\n",
       "  {'start': 'Fruit', 'type': 'DOMESTICATED_IN', 'end': 'Location'},\n",
       "  {'start': 'Fruit', 'type': 'VARIETY_OF', 'end': 'Food'},\n",
       "  {'start': 'Fruit', 'type': 'INTRODUCED_TO', 'end': 'Location'},\n",
       "  {'start': 'Fruit', 'type': 'INTRODUCED_TO', 'end': 'Country'},\n",
       "  {'start': 'Fruit', 'type': 'CULTIVATED_IN', 'end': 'Country'},\n",
       "  {'start': 'Fruit', 'type': 'CULTIVATED_IN', 'end': 'Location'},\n",
       "  {'start': 'Fruit', 'type': 'PROCESSED_INTO', 'end': 'Food'},\n",
       "  {'start': 'Fruit', 'type': 'CONSUMED_IN', 'end': 'Location'},\n",
       "  {'start': 'Fruit', 'type': 'ORIGIN', 'end': 'Country'},\n",
       "  {'start': 'Fruit', 'type': 'ORIGIN', 'end': 'Location'},\n",
       "  {'start': 'Fruit', 'type': 'INGREDIENT_OF', 'end': 'Food'},\n",
       "  {'start': 'Fruit', 'type': 'CONTAINS', 'end': 'Nutrient'},\n",
       "  {'start': 'Fruit', 'type': 'CONTAINS', 'end': 'Substance'},\n",
       "  {'start': 'Fruit', 'type': 'NATIONAL_FRUIT_OF', 'end': 'Country'},\n",
       "  {'start': 'Fruit', 'type': 'NATIONAL_FRUIT_OF', 'end': 'Location'},\n",
       "  {'start': 'Plant', 'type': 'PRODUCED_BY', 'end': 'Plant'},\n",
       "  {'start': 'Plant', 'type': 'ORIGINATED_FROM', 'end': 'Location'},\n",
       "  {'start': 'Plant', 'type': 'ORIGINATED_FROM', 'end': 'Country'},\n",
       "  {'start': 'Plant', 'type': 'DOMESTICATED_IN', 'end': 'Location'},\n",
       "  {'start': 'Plant', 'type': 'VARIETY_OF', 'end': 'Food'},\n",
       "  {'start': 'Plant', 'type': 'INTRODUCED_TO', 'end': 'Location'},\n",
       "  {'start': 'Plant', 'type': 'INTRODUCED_TO', 'end': 'Country'},\n",
       "  {'start': 'Plant', 'type': 'CULTIVATED_IN', 'end': 'Country'},\n",
       "  {'start': 'Plant', 'type': 'CULTIVATED_IN', 'end': 'Location'},\n",
       "  {'start': 'Plant', 'type': 'PROCESSED_INTO', 'end': 'Food'},\n",
       "  {'start': 'Plant', 'type': 'CONSUMED_IN', 'end': 'Location'},\n",
       "  {'start': 'Plant', 'type': 'ORIGIN', 'end': 'Country'},\n",
       "  {'start': 'Plant', 'type': 'ORIGIN', 'end': 'Location'},\n",
       "  {'start': 'Plant', 'type': 'INGREDIENT_OF', 'end': 'Food'},\n",
       "  {'start': 'Plant', 'type': 'CONTAINS', 'end': 'Nutrient'},\n",
       "  {'start': 'Plant', 'type': 'CONTAINS', 'end': 'Substance'},\n",
       "  {'start': 'Plant', 'type': 'NATIONAL_FRUIT_OF', 'end': 'Country'},\n",
       "  {'start': 'Plant', 'type': 'NATIONAL_FRUIT_OF', 'end': 'Location'},\n",
       "  {'start': 'Plant', 'type': 'PRODUCES', 'end': 'Fruit'},\n",
       "  {'start': 'Plant', 'type': 'HAS_PART', 'end': 'Plant_part'},\n",
       "  {'start': 'Plant', 'type': 'NATIONAL_TREE_OF', 'end': 'Country'},\n",
       "  {'start': 'Plant', 'type': 'NATIONAL_TREE_OF', 'end': 'Location'},\n",
       "  {'start': 'Plant_part', 'type': 'PART_OF', 'end': 'Fruit'},\n",
       "  {'start': 'Plant_part', 'type': 'PART_OF', 'end': 'Plant'},\n",
       "  {'start': 'Plant_part', 'type': 'PART_OF', 'end': 'Food'},\n",
       "  {'start': 'Plant_part', 'type': 'CONTAINED_IN', 'end': 'Plant_part'},\n",
       "  {'start': 'Country', 'type': 'PRODUCES', 'end': 'Fruit'},\n",
       "  {'start': 'Country', 'type': 'PRODUCES', 'end': 'Plant'},\n",
       "  {'start': 'Country', 'type': 'PRODUCES', 'end': 'Food'},\n",
       "  {'start': 'Country', 'type': 'NATIONAL_TREE', 'end': 'Plant'},\n",
       "  {'start': 'Mango', 'type': 'BELONGS_TO', 'end': 'Mango_group'},\n",
       "  {'start': 'Location', 'type': 'PRODUCES', 'end': 'Fruit'},\n",
       "  {'start': 'Location', 'type': 'PRODUCES', 'end': 'Plant'},\n",
       "  {'start': 'Location', 'type': 'PRODUCES', 'end': 'Food'},\n",
       "  {'start': 'Location', 'type': 'PART_OF', 'end': 'Country'},\n",
       "  {'start': 'Location', 'type': 'PART_OF', 'end': 'Location'},\n",
       "  {'start': 'Location', 'type': 'NATIONAL_TREE', 'end': 'Plant'},\n",
       "  {'start': 'Cultivar', 'type': 'VARIETY_OF', 'end': 'Fruit'},\n",
       "  {'start': 'Cultivar', 'type': 'VARIETY_OF', 'end': 'Plant'},\n",
       "  {'start': 'Cultivar', 'type': 'VARIETY_OF', 'end': 'Food'},\n",
       "  {'start': 'Cultivar', 'type': 'IS_A_TYPE_OF', 'end': 'Fruit'},\n",
       "  {'start': 'Cultivar', 'type': 'IS_A_TYPE_OF', 'end': 'Plant'},\n",
       "  {'start': 'Cultivar', 'type': 'IS_A_TYPE_OF', 'end': 'Food'},\n",
       "  {'start': 'Organization', 'type': 'PART_OF', 'end': 'Organization'},\n",
       "  {'start': 'Mango cultivar', 'type': 'VARIETY_OF', 'end': 'Fruit'},\n",
       "  {'start': 'Mango cultivar', 'type': 'VARIETY_OF', 'end': 'Plant'},\n",
       "  {'start': 'Mango cultivar', 'type': 'VARIETY_OF', 'end': 'Food'},\n",
       "  {'start': 'Mango cultivar', 'type': 'IS_A_TYPE_OF', 'end': 'Fruit'},\n",
       "  {'start': 'Mango cultivar', 'type': 'IS_A_TYPE_OF', 'end': 'Plant'},\n",
       "  {'start': 'Mango cultivar', 'type': 'IS_A_TYPE_OF', 'end': 'Food'},\n",
       "  {'start': 'Mango cultivar', 'type': 'ORIGINATES_FROM', 'end': 'Country'},\n",
       "  {'start': 'Person', 'type': 'CITIZEN_OF', 'end': 'Country'},\n",
       "  {'start': 'Person', 'type': 'CITIZEN_OF', 'end': 'Location'},\n",
       "  {'start': 'Person', 'type': 'DISCOVERED', 'end': 'Fruit'},\n",
       "  {'start': 'Person', 'type': 'DISCOVERED', 'end': 'Plant'},\n",
       "  {'start': 'Person', 'type': 'DISCOVERED', 'end': 'Food'},\n",
       "  {'start': 'Food', 'type': 'PRODUCED_BY', 'end': 'Plant'},\n",
       "  {'start': 'Food', 'type': 'ORIGINATED_FROM', 'end': 'Location'},\n",
       "  {'start': 'Food', 'type': 'ORIGINATED_FROM', 'end': 'Country'},\n",
       "  {'start': 'Food', 'type': 'DOMESTICATED_IN', 'end': 'Location'},\n",
       "  {'start': 'Food', 'type': 'VARIETY_OF', 'end': 'Food'},\n",
       "  {'start': 'Food', 'type': 'VARIETY_OF', 'end': 'Fruit'},\n",
       "  {'start': 'Food', 'type': 'VARIETY_OF', 'end': 'Plant'},\n",
       "  {'start': 'Food', 'type': 'INTRODUCED_TO', 'end': 'Location'},\n",
       "  {'start': 'Food', 'type': 'INTRODUCED_TO', 'end': 'Country'},\n",
       "  {'start': 'Food', 'type': 'CULTIVATED_IN', 'end': 'Country'},\n",
       "  {'start': 'Food', 'type': 'CULTIVATED_IN', 'end': 'Location'},\n",
       "  {'start': 'Food', 'type': 'PROCESSED_INTO', 'end': 'Food'},\n",
       "  {'start': 'Food', 'type': 'CONSUMED_IN', 'end': 'Location'},\n",
       "  {'start': 'Food', 'type': 'CONSUMED_IN', 'end': 'Country'},\n",
       "  {'start': 'Food', 'type': 'ORIGIN', 'end': 'Country'},\n",
       "  {'start': 'Food', 'type': 'ORIGIN', 'end': 'Location'},\n",
       "  {'start': 'Food', 'type': 'INGREDIENT_OF', 'end': 'Food'},\n",
       "  {'start': 'Food', 'type': 'CONTAINS', 'end': 'Nutrient'},\n",
       "  {'start': 'Food', 'type': 'CONTAINS', 'end': 'Substance'},\n",
       "  {'start': 'Food', 'type': 'NATIONAL_FRUIT_OF', 'end': 'Country'},\n",
       "  {'start': 'Food', 'type': 'NATIONAL_FRUIT_OF', 'end': 'Location'},\n",
       "  {'start': 'Food', 'type': 'IS_A_TYPE_OF', 'end': 'Fruit'},\n",
       "  {'start': 'Food', 'type': 'IS_A_TYPE_OF', 'end': 'Plant'},\n",
       "  {'start': 'Food', 'type': 'IS_A_TYPE_OF', 'end': 'Food'},\n",
       "  {'start': 'Chemical', 'type': 'FLAVOR_COMPONENT', 'end': 'Cultivar'},\n",
       "  {'start': 'Chemical', 'type': 'FLAVOR_COMPONENT', 'end': 'Mango cultivar'},\n",
       "  {'start': 'Chemical', 'type': 'FLAVOR_COMPONENT', 'end': 'Food'},\n",
       "  {'start': 'Chemical', 'type': 'FLAVOR_COMPONENT', 'end': 'Fruit'},\n",
       "  {'start': 'Chemical', 'type': 'FLAVOR_COMPONENT', 'end': 'Plant'},\n",
       "  {'start': 'Chemical', 'type': 'CONTAINS', 'end': 'Fruit'},\n",
       "  {'start': 'Chemical', 'type': 'CONTAINS', 'end': 'Plant'},\n",
       "  {'start': 'Chemical', 'type': 'CONTAINS', 'end': 'Food'},\n",
       "  {'start': 'Substance', 'type': 'CROSS_REACTS_WITH', 'end': 'Substance'}],\n",
       " 'metadata': {'constraint': [], 'index': []}}"
      ]
     },
     "execution_count": 39,
     "metadata": {},
     "output_type": "execute_result"
    }
   ],
   "source": [
    "graph.refresh_schema()\n",
    "graph.structured_schema"
   ]
  },
  {
   "cell_type": "code",
   "execution_count": 40,
   "metadata": {},
   "outputs": [
    {
     "data": {
      "text/html": [
       "<div id=\"75d7fd7c-6552-4d3f-8d94-07e41fedd581\" style=\"height: 400px;\"></div>\n",
       "\n",
       "<script type=\"text/javascript\">\n",
       "\n",
       "    var nodes = [{\"id\": 73, \"label\": \"\", \"group\": \"Plant_part\", \"title\": \"Node('Plant_part', id='Mango_Seed', length='4\\u20137 cm', name='Mango seed')\"}, {\"id\": 71, \"label\": \"\", \"group\": \"Plant_part\", \"title\": \"Node('Plant_part', id='Mango_Pit', name='Mango pit', thickness='1\\u20132 mm')\"}, {\"id\": 50, \"label\": \"\", \"group\": \"Food\", \"title\": \"Node('Food', id='Unripe Mango', name='Unripe mango', taste='Sour')\"}, {\"id\": 59, \"label\": \"\", \"group\": \"Food\", \"title\": \"Node('Food', description='Dried and powdered unripe mango', id='Amchur', name='Amchur')\"}, {\"id\": 14, \"label\": \"\", \"group\": \"Country\", \"title\": \"Node('Country', 'Location', id='Philippines', name='Philippines')\"}, {\"id\": 56, \"label\": \"\", \"group\": \"Food\", \"title\": \"Node('Food', id='Andhra Aavakaaya', name='Andhra aavakaaya', type='Pickle')\"}, {\"id\": 39, \"label\": \"\", \"group\": \"Plant_part\", \"title\": \"Node('Plant_part', arrangement='Alternate', id='Mango_Leaf', length='15-35 centimetres', name='Mango leaf', shape='Simple', type='Evergreen', width='6-16 centimetres')\"}, {\"id\": 42, \"label\": \"\", \"group\": \"Plant_part\", \"title\": \"Node('Plant_part', arrangement='Terminal panicles', fragrance='Mild, sweet', id='Mango_Flower', name='Mango flower', panicle_length='10-40 centimetres', petal_count='Five', petal_length='5-10 millimetres')\"}, {\"id\": 10, \"label\": \"\", \"group\": \"Location\", \"title\": \"Node('Location', id='West Africa', name='West africa')\"}, {\"id\": 66, \"label\": \"\", \"group\": \"Mango\", \"title\": \"Node('Mango', embryony='monoembryonic', id='Langra', name='Langra', type='Indian type')\"}, {\"id\": 1, \"label\": \"\", \"group\": \"Mango_group\", \"title\": \"Node('Mango_group', embryony='monoembryonic', id='Indian_Group', name='Indian group')\"}, {\"id\": 68, \"label\": \"\", \"group\": \"Chemical\", \"title\": \"Node('Chemical', id='Ester', name='Ester')\"}, {\"id\": 3, \"label\": \"\", \"group\": \"Fruit\", \"title\": \"Node('Food', 'Fruit', 'Plant', id='Mango', name='Mango', national_fruit_of='India, Pakistan, Philippines', origin='Region between northwestern Myanmar, Bangladesh, and northeastern India', scientific_name='Mangifera indica')\"}, {\"id\": 78, \"label\": \"\", \"group\": \"Substance\", \"title\": \"Node('Substance', id='Urushiol', name='Urushiol')\"}, {\"id\": 43, \"label\": \"\", \"group\": \"Food\", \"title\": \"Node('Food', id='Carabao Mango', name='Carabao mango')\"}, {\"id\": 33, \"label\": \"\", \"group\": \"Mango cultivar\", \"title\": \"Node('Mango cultivar', id='Gomera-1', name='Gomera-1', origin='Cuba')\"}, {\"id\": 34, \"label\": \"\", \"group\": \"Country\", \"title\": \"Node('Country', id='Cuba', name='Cuba')\"}, {\"id\": 79, \"label\": \"\", \"group\": \"Location\", \"title\": \"Node('Location', id='Northwestern_Myanmar', name='Northwestern myanmar')\"}, {\"id\": 31, \"label\": \"\", \"group\": \"Plant\", \"title\": \"Node('Plant', common_name='Mango tree', crown_radius='10-15 metres', height='30-40 metres', id='Mangifera Indica', lifespan='Over 300 years', name='Mangifera indica')\"}, {\"id\": 74, \"label\": \"\", \"group\": \"Plant\", \"title\": \"Node('Plant', id=['Mango_Tree', 'Mango Tree'], name='Mango tree')\"}, {\"id\": 0, \"label\": \"\", \"group\": \"Location\", \"title\": \"Node('Location', id='Northeastern_India', name='Northeastern india')\"}, {\"id\": 44, \"label\": \"\", \"group\": \"Country\", \"title\": \"Node('Country', 'Location', id='Bangladesh', name='Bangladesh')\"}, {\"id\": 4, \"label\": \"\", \"group\": \"Location\", \"title\": \"Node('Location', id='Southeast Asia', name='Southeast asia')\"}, {\"id\": 5, \"label\": \"\", \"group\": \"Location\", \"title\": \"Node('Location', id='South Asia', name='South asia')\"}, {\"id\": 45, \"label\": \"\", \"group\": \"Food\", \"title\": \"Node('Food', id='Alphonso Mango', name='Alphonso mango')\"}, {\"id\": 46, \"label\": \"\", \"group\": \"Food\", \"title\": \"Node('Food', id='Ataulfo Mango', name='Ataulfo mango')\"}, {\"id\": 9, \"label\": \"\", \"group\": \"Location\", \"title\": \"Node('Location', id='East Africa', name='East africa')\"}, {\"id\": 11, \"label\": \"\", \"group\": \"Country\", \"title\": \"Node('Country', 'Location', id='Brazil', name='Brazil')\"}, {\"id\": 12, \"label\": \"\", \"group\": \"Location\", \"title\": \"Node('Location', id='Caribbean', name='Caribbean')\"}, {\"id\": 13, \"label\": \"\", \"group\": \"Country\", \"title\": \"Node('Country', 'Location', id='Mexico', name='Mexico', production_2022='2 million tonnes')\"}, {\"id\": 15, \"label\": \"\", \"group\": \"Location\", \"title\": \"Node('Location', id='Florida', name='Florida')\"}, {\"id\": 16, \"label\": \"\", \"group\": \"Country\", \"title\": \"Node('Country', 'Location', id='Spain', name='Spain')\"}, {\"id\": 48, \"label\": \"\", \"group\": \"Food\", \"title\": \"Node('Food', id='Mango Juice', name='Mango juice')\"}, {\"id\": 49, \"label\": \"\", \"group\": \"Food\", \"title\": \"Node('Food', id='Mango Chutney', name='Mango chutney')\"}, {\"id\": 57, \"label\": \"\", \"group\": \"Food\", \"title\": \"Node('Food', description='Fruit preserves', id='Murabba', name='Murabba')\"}, {\"id\": 58, \"label\": \"\", \"group\": \"Food\", \"title\": \"Node('Food', description='Sweet, grated mango delicacy', id='Muramba', name='Muramba')\"}, {\"id\": 60, \"label\": \"\", \"group\": \"Location\", \"title\": \"Node('Location', id='Central America', name='Central america')\"}, {\"id\": 17, \"label\": \"\", \"group\": \"Country\", \"title\": \"Node('Country', 'Location', id='India', name='India', production_2022='26.34 million tonnes')\"}, {\"id\": 52, \"label\": \"\", \"group\": \"Food\", \"title\": \"Node('Food', id='Aam Panna', name='Aam panna', type='Summer drink')\"}, {\"id\": 53, \"label\": \"\", \"group\": \"Food\", \"title\": \"Node('Food', id='Mango Lassi', name='Mango lassi')\"}, {\"id\": 54, \"label\": \"\", \"group\": \"Food\", \"title\": \"Node('Food', description='Thick juice made of mangoes with sugar or milk', id='Aamras', name='Aamras')\"}, {\"id\": 55, \"label\": \"\", \"group\": \"Food\", \"title\": \"Node('Food', id='Mangada', name='Mangada', type='Jam')\"}, {\"id\": 61, \"label\": \"\", \"group\": \"Food\", \"title\": \"Node('Food', id='Mango Sticky Rice', name='Mango sticky rice')\"}, {\"id\": 72, \"label\": \"\", \"group\": \"Nutrient\", \"title\": \"Node('Nutrient', amount='36.4 mg', daily_value_percentage='44%', id='Vitamin C', name='Vitamin c')\"}, {\"id\": 75, \"label\": \"\", \"group\": \"Nutrient\", \"title\": \"Node('Nutrient', amount='43 \\u03bcg', daily_value_percentage='11%', id='Folate', name='Folate')\"}, {\"id\": 77, \"label\": \"\", \"group\": \"Substance\", \"title\": \"Node('Substance', id='Mango Allergens', name='Mango allergens')\"}, {\"id\": 70, \"label\": \"\", \"group\": \"Chemical\", \"title\": \"Node('Chemical', id='Mangiferin', name='Mangiferin')\"}, {\"id\": 47, \"label\": \"\", \"group\": \"Mango\", \"title\": \"Node('Mango', embryony='polyembryonic', id='Carabao', name='Carabao', type='Southeast Asian type')\"}, {\"id\": 2, \"label\": \"\", \"group\": \"Mango_group\", \"title\": \"Node('Mango_group', embryony='polyembryonic', id='Southeast_Asian_Group', name='Southeast asian group')\"}, {\"id\": 37, \"label\": \"\", \"group\": \"Fruit\", \"title\": \"Node('Fruit', id='Mango_Fruit', length_range='5-25 centimetres', name='Mango fruit', ripening_time='Four to five months from flowering', weight_range='140 grams to 2 kilograms')\"}, {\"id\": 30, \"label\": \"\", \"group\": \"Location\", \"title\": \"Node('Location', id='Hawaii', name='Hawaii')\"}, {\"id\": 32, \"label\": \"\", \"group\": \"Country\", \"title\": \"Node('Country', id='Australia', name='Australia')\"}, {\"id\": 65, \"label\": \"\", \"group\": \"Chemical\", \"title\": \"Node('Chemical', id='Furanones', name='Furanones')\"}, {\"id\": 6, \"label\": \"\", \"group\": \"Mango cultivar\", \"title\": \"Node('Cultivar', 'Food', 'Mango cultivar', description=\\\"important export product, considered 'the king of mangoes'\\\", id='Alphonso', name='Alphonso', origin='India')\"}, {\"id\": 28, \"label\": \"\", \"group\": \"Location\", \"title\": \"Node('Location', id='South Florida', name='South florida')\"}, {\"id\": 27, \"label\": \"\", \"group\": \"Location\", \"title\": \"Node('Location', id='North America', name='North america')\"}, {\"id\": 18, \"label\": \"\", \"group\": \"Country\", \"title\": \"Node('Country', id='Indonesia', name='Indonesia', production_2022='13.82 million tonnes')\"}, {\"id\": 69, \"label\": \"\", \"group\": \"Chemical\", \"title\": \"Node('Chemical', id='Beta-Carotene', name='Beta-carotene')\"}, {\"id\": 20, \"label\": \"\", \"group\": \"Country\", \"title\": \"Node('Country', id='Pakistan', name='Pakistan', production_2022='1.59 million tonnes')\"}, {\"id\": 25, \"label\": \"\", \"group\": \"Location\", \"title\": \"Node('Location', id='Canary Islands', name='Canary islands')\"}, {\"id\": 7, \"label\": \"\", \"group\": \"Cultivar\", \"title\": \"Node('Cultivar', description='prolific cultivar in Jamaica', id='Julie', name='Julie')\"}, {\"id\": 29, \"label\": \"\", \"group\": \"Location\", \"title\": \"Node('Location', id='California Coachella Valley', name='California coachella valley')\"}, {\"id\": 8, \"label\": \"\", \"group\": \"Mango cultivar\", \"title\": \"Node('Cultivar', 'Mango cultivar', first_fruited='1940', id='Tommy Atkins', location='southern Florida', name='Tommy atkins', origin=\\\"seedling of 'Haden'\\\")\"}, {\"id\": 23, \"label\": \"\", \"group\": \"Organization\", \"title\": \"Node('Organization', full_name='Food and Agriculture Organization Corporate Statistical Database', id='Faostat', name='Faostat')\"}, {\"id\": 24, \"label\": \"\", \"group\": \"Organization\", \"title\": \"Node('Organization', id='United Nations', name='United nations')\"}, {\"id\": 67, \"label\": \"\", \"group\": \"Chemical\", \"title\": \"Node('Chemical', id='Terpene', name='Terpene')\"}, {\"id\": 64, \"label\": \"\", \"group\": \"Chemical\", \"title\": \"Node('Chemical', id='Lactones', name='Lactones')\"}, {\"id\": 35, \"label\": \"\", \"group\": \"Person\", \"title\": \"Node('Person', id='Ramon Barba', name='Ramon barba', profession='Filipino horticulturist')\"}, {\"id\": 19, \"label\": \"\", \"group\": \"Country\", \"title\": \"Node('Country', id='China', name='China', production_2022='2.52 million tonnes')\"}];\n",
       "    var edges = [{\"from\": 73, \"to\": 71, \"label\": \"CONTAINED_IN\"}, {\"from\": 50, \"to\": 59, \"label\": \"PROCESSED_INTO\"}, {\"from\": 50, \"to\": 14, \"label\": \"CONSUMED_IN\"}, {\"from\": 50, \"to\": 56, \"label\": \"INGREDIENT_OF\"}, {\"from\": 66, \"to\": 1, \"label\": \"BELONGS_TO\"}, {\"from\": 68, \"to\": 3, \"label\": \"FLAVOR_COMPONENT\"}, {\"from\": 33, \"to\": 34, \"label\": \"ORIGINATES_FROM\"}, {\"from\": 3, \"to\": 31, \"label\": \"PRODUCED_BY\"}, {\"from\": 3, \"to\": 74, \"label\": \"PRODUCED_BY\"}, {\"from\": 3, \"to\": 0, \"label\": \"ORIGINATED_FROM\"}, {\"from\": 3, \"to\": 44, \"label\": \"ORIGINATED_FROM\"}, {\"from\": 3, \"to\": 79, \"label\": \"ORIGINATED_FROM\"}, {\"from\": 3, \"to\": 4, \"label\": \"DOMESTICATED_IN\"}, {\"from\": 3, \"to\": 5, \"label\": \"DOMESTICATED_IN\"}, {\"from\": 3, \"to\": 43, \"label\": \"VARIETY_OF\"}, {\"from\": 3, \"to\": 45, \"label\": \"VARIETY_OF\"}, {\"from\": 3, \"to\": 46, \"label\": \"VARIETY_OF\"}, {\"from\": 3, \"to\": 9, \"label\": \"INTRODUCED_TO\"}, {\"from\": 3, \"to\": 10, \"label\": \"INTRODUCED_TO\"}, {\"from\": 3, \"to\": 11, \"label\": \"INTRODUCED_TO\"}, {\"from\": 3, \"to\": 12, \"label\": \"INTRODUCED_TO\"}, {\"from\": 3, \"to\": 13, \"label\": \"INTRODUCED_TO\"}, {\"from\": 3, \"to\": 14, \"label\": \"INTRODUCED_TO\"}, {\"from\": 3, \"to\": 15, \"label\": \"INTRODUCED_TO\"}, {\"from\": 3, \"to\": 16, \"label\": \"CULTIVATED_IN\"}, {\"from\": 3, \"to\": 48, \"label\": \"PROCESSED_INTO\"}, {\"from\": 3, \"to\": 49, \"label\": \"PROCESSED_INTO\"}, {\"from\": 3, \"to\": 57, \"label\": \"PROCESSED_INTO\"}, {\"from\": 3, \"to\": 58, \"label\": \"PROCESSED_INTO\"}, {\"from\": 3, \"to\": 4, \"label\": \"CONSUMED_IN\"}, {\"from\": 3, \"to\": 60, \"label\": \"CONSUMED_IN\"}, {\"from\": 3, \"to\": 17, \"label\": \"ORIGIN\"}, {\"from\": 3, \"to\": 52, \"label\": \"INGREDIENT_OF\"}, {\"from\": 3, \"to\": 53, \"label\": \"INGREDIENT_OF\"}, {\"from\": 3, \"to\": 54, \"label\": \"INGREDIENT_OF\"}, {\"from\": 3, \"to\": 55, \"label\": \"INGREDIENT_OF\"}, {\"from\": 3, \"to\": 61, \"label\": \"INGREDIENT_OF\"}, {\"from\": 3, \"to\": 72, \"label\": \"CONTAINS\"}, {\"from\": 3, \"to\": 75, \"label\": \"CONTAINS\"}, {\"from\": 3, \"to\": 77, \"label\": \"CONTAINS\"}, {\"from\": 3, \"to\": 17, \"label\": \"NATIONAL_FRUIT_OF\"}, {\"from\": 70, \"to\": 3, \"label\": \"CONTAINS\"}, {\"from\": 47, \"to\": 2, \"label\": \"BELONGS_TO\"}, {\"from\": 77, \"to\": 78, \"label\": \"CROSS_REACTS_WITH\"}, {\"from\": 30, \"to\": 3, \"label\": \"PRODUCES\"}, {\"from\": 16, \"to\": 3, \"label\": \"PRODUCES\"}, {\"from\": 17, \"to\": 3, \"label\": \"PRODUCES\"}, {\"from\": 32, \"to\": 3, \"label\": \"PRODUCES\"}, {\"from\": 53, \"to\": 5, \"label\": \"CONSUMED_IN\"}, {\"from\": 65, \"to\": 6, \"label\": \"FLAVOR_COMPONENT\"}, {\"from\": 28, \"to\": 27, \"label\": \"PART_OF\"}, {\"from\": 18, \"to\": 3, \"label\": \"PRODUCES\"}, {\"from\": 69, \"to\": 3, \"label\": \"CONTAINS\"}, {\"from\": 13, \"to\": 3, \"label\": \"PRODUCES\"}, {\"from\": 27, \"to\": 3, \"label\": \"PRODUCES\"}, {\"from\": 20, \"to\": 3, \"label\": \"PRODUCES\"}, {\"from\": 44, \"to\": 31, \"label\": \"NATIONAL_TREE\"}, {\"from\": 25, \"to\": 16, \"label\": \"PART_OF\"}, {\"from\": 7, \"to\": 3, \"label\": \"VARIETY_OF\"}, {\"from\": 29, \"to\": 27, \"label\": \"PART_OF\"}, {\"from\": 8, \"to\": 3, \"label\": \"VARIETY_OF\"}, {\"from\": 23, \"to\": 24, \"label\": \"PART_OF\"}, {\"from\": 11, \"to\": 3, \"label\": \"PRODUCES\"}, {\"from\": 67, \"to\": 3, \"label\": \"FLAVOR_COMPONENT\"}, {\"from\": 74, \"to\": 44, \"label\": \"NATIONAL_TREE_OF\"}, {\"from\": 71, \"to\": 3, \"label\": \"PART_OF\"}, {\"from\": 64, \"to\": 6, \"label\": \"FLAVOR_COMPONENT\"}, {\"from\": 35, \"to\": 14, \"label\": \"CITIZEN_OF\"}, {\"from\": 35, \"to\": 3, \"label\": \"DISCOVERED\"}, {\"from\": 19, \"to\": 3, \"label\": \"PRODUCES\"}, {\"from\": 31, \"to\": 37, \"label\": \"PRODUCES\"}, {\"from\": 31, \"to\": 39, \"label\": \"HAS_PART\"}, {\"from\": 31, \"to\": 42, \"label\": \"HAS_PART\"}, {\"from\": 6, \"to\": 3, \"label\": \"VARIETY_OF\"}, {\"from\": 6, \"to\": 3, \"label\": \"IS_A_TYPE_OF\"}];\n",
       "\n",
       "    var container = document.getElementById(\"75d7fd7c-6552-4d3f-8d94-07e41fedd581\");\n",
       "\n",
       "    var data = {\n",
       "        nodes: nodes,\n",
       "        edges: edges\n",
       "    };\n",
       "\n",
       "    var options = {\n",
       "    nodes: {\n",
       "        shape: 'dot',\n",
       "        size: 25,\n",
       "        font: {\n",
       "            size: 14\n",
       "        }\n",
       "    },\n",
       "    edges: {\n",
       "        font: {\n",
       "            size: 14,\n",
       "            align: 'middle'\n",
       "        },\n",
       "        color: 'gray',\n",
       "        arrows: {\n",
       "            to: {\n",
       "                enabled: true,\n",
       "                scaleFactor: 0.5\n",
       "            }\n",
       "        },\n",
       "        smooth: {\n",
       "            enabled: false\n",
       "        }\n",
       "    },\n",
       "    physics: {\n",
       "        enabled: true\n",
       "        }\n",
       "    };\n",
       "\n",
       "    var network = new vis.Network(container, data, options);\n",
       "\n",
       "</script>\n"
      ],
      "text/plain": [
       "<IPython.core.display.HTML object>"
      ]
     },
     "execution_count": 40,
     "metadata": {},
     "output_type": "execute_result"
    }
   ],
   "source": [
    "show_graph()"
   ]
  },
  {
   "cell_type": "markdown",
   "metadata": {},
   "source": [
    "We note provide a custom prompt to the LLM to create a cypher query to extract information from the graph, we provide key insights to the LLM here:\n",
    "\n",
    "- When the node names where rewritter we used capitalization to make the nodes more readable and to make consistent query on the graph.\n",
    "- Remind the LLm to use properties to extract information from the graph.\n",
    "- We ask it use synonyms to extract information from the graph."
   ]
  },
  {
   "cell_type": "code",
   "execution_count": 41,
   "metadata": {},
   "outputs": [],
   "source": [
    "CYPHER_GENERATION_TEMPLATE = \"\"\"Task: Generate a Cypher statement to query a graph database.\n",
    "Instructions:\n",
    "- Use only the provided relationship types and properties in the schema.\n",
    "- Do not use any other relationship types or properties that are not listed.\n",
    "- Examine the properties of nodes and relationships closely, as the answer might be found there.\n",
    "- STRICTLY use **capitalize** when using **name** property of nodes, for example instead of \"mango\" use \"Mango\" or \"Mango Tree\" use \"Mango tree\".\n",
    "- When fetching from properties use synonyms of values to match, for example instead of just Leaf do an or on Mango Leaf\".\n",
    "\n",
    "Schema:\n",
    "{schema}\n",
    "Note: Do not include any explanations or apologies in your responses.\n",
    "Do not respond to any questions that might ask anything else than for you to construct a Cypher statement.\n",
    "Do not include any text except the generated Cypher statement.\n",
    "\n",
    "The question is:\n",
    "{question}\"\"\"\n",
    "CYPHER_GENERATION_PROMPT = PromptTemplate(\n",
    "    input_variables=[\"schema\", \"question\"], template=CYPHER_GENERATION_TEMPLATE\n",
    ")"
   ]
  },
  {
   "cell_type": "code",
   "execution_count": 42,
   "metadata": {},
   "outputs": [],
   "source": [
    "from langchain.chains import GraphCypherQAChain"
   ]
  },
  {
   "cell_type": "markdown",
   "metadata": {},
   "source": [
    "We create a graph query chain that interprets the user queries, create cypher queries and runs them on the graph, and uses LLM to creat human readable responses."
   ]
  },
  {
   "cell_type": "code",
   "execution_count": 43,
   "metadata": {},
   "outputs": [],
   "source": [
    "graph_qa_chain = GraphCypherQAChain.from_llm(\n",
    "    llm = ChatOpenAI(model=\"gpt-4-turbo\", temperature=0),\n",
    "    graph=graph,\n",
    "    verbose=True,\n",
    "    cypher_prompt=CYPHER_GENERATION_PROMPT,\n",
    "    validate=True,    \n",
    ")"
   ]
  },
  {
   "cell_type": "code",
   "execution_count": 44,
   "metadata": {},
   "outputs": [
    {
     "name": "stdout",
     "output_type": "stream",
     "text": [
      "\n",
      "\n",
      "\u001b[1m> Entering new GraphCypherQAChain chain...\u001b[0m\n",
      "Generated Cypher:\n",
      "\u001b[32;1m\u001b[1;3mcypher\n",
      "MATCH (f:Fruit {name: \"Mango\"})\n",
      "RETURN f.scientific_name AS ScientificName;\n",
      "\u001b[0m\n",
      "Full Context:\n",
      "\u001b[32;1m\u001b[1;3m[{'ScientificName': 'Mangifera indica'}]\u001b[0m\n",
      "\n",
      "\u001b[1m> Finished chain.\u001b[0m\n"
     ]
    },
    {
     "data": {
      "text/plain": [
       "{'query': 'what is the scientific name of mango?',\n",
       " 'result': 'The scientific name of mango is Mangifera indica.'}"
      ]
     },
     "execution_count": 44,
     "metadata": {},
     "output_type": "execute_result"
    }
   ],
   "source": [
    "graph_qa_chain.invoke(\n",
    "    \"what is the scientific name of mango?\"\n",
    ")"
   ]
  },
  {
   "cell_type": "code",
   "execution_count": 47,
   "metadata": {},
   "outputs": [
    {
     "name": "stdout",
     "output_type": "stream",
     "text": [
      "\n",
      "\n",
      "\u001b[1m> Entering new GraphCypherQAChain chain...\u001b[0m\n",
      "Generated Cypher:\n",
      "\u001b[32;1m\u001b[1;3mcypher\n",
      "MATCH (m:Fruit)-[:CONSUMED_IN]->(l:Location)\n",
      "WHERE m.name = \"Mango\"\n",
      "RETURN l.name AS Location\n",
      "\u001b[0m\n",
      "Full Context:\n",
      "\u001b[32;1m\u001b[1;3m[{'Location': 'Southeast asia'}, {'Location': 'Central america'}]\u001b[0m\n",
      "\n",
      "\u001b[1m> Finished chain.\u001b[0m\n"
     ]
    },
    {
     "data": {
      "text/plain": [
       "{'query': 'where are mangoes consumed?',\n",
       " 'result': 'Mangoes are consumed in Southeast Asia and Central America.'}"
      ]
     },
     "execution_count": 47,
     "metadata": {},
     "output_type": "execute_result"
    }
   ],
   "source": [
    "graph_qa_chain.invoke(\n",
    "    \"where are mangoes consumed?\"\n",
    ")"
   ]
  },
  {
   "cell_type": "code",
   "execution_count": 48,
   "metadata": {},
   "outputs": [
    {
     "name": "stdout",
     "output_type": "stream",
     "text": [
      "\n",
      "\n",
      "\u001b[1m> Entering new GraphCypherQAChain chain...\u001b[0m\n",
      "Generated Cypher:\n",
      "\u001b[32;1m\u001b[1;3mcypher\n",
      "MATCH (f:Fruit {name: \"Mango\"})-[:NATIONAL_FRUIT_OF]->(c:Country)\n",
      "RETURN c.name AS Country\n",
      "\u001b[0m\n",
      "Full Context:\n",
      "\u001b[32;1m\u001b[1;3m[{'Country': 'India'}]\u001b[0m\n",
      "\n",
      "\u001b[1m> Finished chain.\u001b[0m\n"
     ]
    },
    {
     "data": {
      "text/plain": [
       "{'query': 'mango is the national fruit of which all countries?',\n",
       " 'result': 'Mango is the national fruit of India.'}"
      ]
     },
     "execution_count": 48,
     "metadata": {},
     "output_type": "execute_result"
    }
   ],
   "source": [
    "graph_qa_chain.invoke(\n",
    "    \"mango is the national fruit of which all countries?\"\n",
    ")"
   ]
  },
  {
   "cell_type": "code",
   "execution_count": 49,
   "metadata": {},
   "outputs": [
    {
     "name": "stdout",
     "output_type": "stream",
     "text": [
      "\n",
      "\n",
      "\u001b[1m> Entering new GraphCypherQAChain chain...\u001b[0m\n",
      "Generated Cypher:\n",
      "\u001b[32;1m\u001b[1;3mcypher\n",
      "MATCH (m:Fruit)-[:NATIONAL_FRUIT_OF]->(c:Country)\n",
      "WHERE m.name = \"Mango\"\n",
      "RETURN c.name AS Country\n",
      "UNION\n",
      "MATCH (p:Plant)-[:NATIONAL_TREE_OF]->(c:Country)\n",
      "WHERE p.name = \"Mango tree\"\n",
      "RETURN c.name AS Country\n",
      "\u001b[0m\n",
      "Full Context:\n",
      "\u001b[32;1m\u001b[1;3m[{'Country': 'India'}, {'Country': 'Bangladesh'}]\u001b[0m\n",
      "\n",
      "\u001b[1m> Finished chain.\u001b[0m\n"
     ]
    },
    {
     "data": {
      "text/plain": [
       "{'query': 'mango is the national fruit/tree of which all countries?',\n",
       " 'result': 'Mango is the national fruit of India and Bangladesh.'}"
      ]
     },
     "execution_count": 49,
     "metadata": {},
     "output_type": "execute_result"
    }
   ],
   "source": [
    "graph_qa_chain.invoke(\n",
    "    \"mango is the national fruit/tree of which all countries?\"\n",
    ")"
   ]
  },
  {
   "cell_type": "code",
   "execution_count": 50,
   "metadata": {},
   "outputs": [
    {
     "name": "stdout",
     "output_type": "stream",
     "text": [
      "\n",
      "\n",
      "\u001b[1m> Entering new GraphCypherQAChain chain...\u001b[0m\n",
      "Generated Cypher:\n",
      "\u001b[32;1m\u001b[1;3mcypher\n",
      "MATCH (m:Fruit {name: \"Mango\"})-[:CONTAINS]->(s)\n",
      "RETURN s.name AS SubstanceOrNutrient\n",
      "\u001b[0m\n",
      "Full Context:\n",
      "\u001b[32;1m\u001b[1;3m[{'SubstanceOrNutrient': 'Vitamin c'}, {'SubstanceOrNutrient': 'Folate'}, {'SubstanceOrNutrient': 'Mango allergens'}]\u001b[0m\n",
      "\n",
      "\u001b[1m> Finished chain.\u001b[0m\n"
     ]
    },
    {
     "data": {
      "text/plain": [
       "{'query': 'What all does mango contain?',\n",
       " 'result': 'Mango contains Vitamin C, Folate, and allergens specific to mangoes.'}"
      ]
     },
     "execution_count": 50,
     "metadata": {},
     "output_type": "execute_result"
    }
   ],
   "source": [
    "graph_qa_chain.invoke(\n",
    "    \"What all does mango contain?\"\n",
    ")"
   ]
  },
  {
   "cell_type": "code",
   "execution_count": 60,
   "metadata": {},
   "outputs": [
    {
     "name": "stdout",
     "output_type": "stream",
     "text": [
      "\n",
      "\n",
      "\u001b[1m> Entering new GraphCypherQAChain chain...\u001b[0m\n",
      "Generated Cypher:\n",
      "\u001b[32;1m\u001b[1;3mcypher\n",
      "MATCH (m:Fruit)-[:INGREDIENT_OF]->(f:Food)\n",
      "WHERE m.name = \"Mango\"\n",
      "RETURN f.name AS FoodName\n",
      "\u001b[0m\n",
      "Full Context:\n",
      "\u001b[32;1m\u001b[1;3m[{'FoodName': 'Aam panna'}, {'FoodName': 'Mango lassi'}, {'FoodName': 'Aamras'}, {'FoodName': 'Mangada'}, {'FoodName': 'Mango sticky rice'}]\u001b[0m\n",
      "\n",
      "\u001b[1m> Finished chain.\u001b[0m\n"
     ]
    },
    {
     "data": {
      "text/plain": [
       "{'query': 'mangoes are used as ingredients in?',\n",
       " 'result': 'Mangoes are used as ingredients in Aam panna, Mango lassi, Aamras, Mangada, and Mango sticky rice.'}"
      ]
     },
     "execution_count": 60,
     "metadata": {},
     "output_type": "execute_result"
    }
   ],
   "source": [
    "graph_qa_chain.invoke(\n",
    "    \"mangoes are used as ingredients in?\"\n",
    ")"
   ]
  },
  {
   "cell_type": "code",
   "execution_count": null,
   "metadata": {},
   "outputs": [],
   "source": []
  }
 ],
 "metadata": {
  "kernelspec": {
   "display_name": "Python 3 (ipykernel)",
   "language": "python",
   "name": "python3"
  },
  "language_info": {
   "codemirror_mode": {
    "name": "ipython",
    "version": 3
   },
   "file_extension": ".py",
   "mimetype": "text/x-python",
   "name": "python",
   "nbconvert_exporter": "python",
   "pygments_lexer": "ipython3",
   "version": "3.11.0"
  }
 },
 "nbformat": 4,
 "nbformat_minor": 4
}
