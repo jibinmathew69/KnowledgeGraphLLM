{
 "cells": [
  {
   "cell_type": "code",
   "execution_count": 1,
   "metadata": {},
   "outputs": [
    {
     "data": {
      "text/plain": [
       "True"
      ]
     },
     "execution_count": 1,
     "metadata": {},
     "output_type": "execute_result"
    }
   ],
   "source": [
    "from dotenv import load_dotenv\n",
    "load_dotenv()"
   ]
  },
  {
   "cell_type": "code",
   "execution_count": 2,
   "metadata": {},
   "outputs": [],
   "source": [
    "import os"
   ]
  },
  {
   "cell_type": "code",
   "execution_count": 3,
   "metadata": {},
   "outputs": [],
   "source": [
    "required_env_vars = [\n",
    "    \"NEO4J_URI\",\n",
    "    \"NEO4J_USERNAME\",\n",
    "    \"NEO4J_PASSWORD\",\n",
    "    \"OPENAI_API_KEY\",\n",
    "    \"ANTHROPIC_API_KEY\"\n",
    "]\n",
    "\n",
    "for var in required_env_vars:\n",
    "    assert os.getenv(var) , f\"Environment variable {var} is not set.\""
   ]
  },
  {
   "cell_type": "code",
   "execution_count": 4,
   "metadata": {},
   "outputs": [],
   "source": [
    "from langchain_openai import ChatOpenAI\n",
    "from langchain_anthropic import ChatAnthropic"
   ]
  },
  {
   "cell_type": "code",
   "execution_count": 5,
   "metadata": {},
   "outputs": [],
   "source": [
    "llm_anthropic = ChatAnthropic(\n",
    "    model=\"claude-3-5-sonnet-20240620\",\n",
    "    temperature=0,\n",
    "    max_tokens=4096,\n",
    "    max_retries=2\n",
    ")"
   ]
  },
  {
   "cell_type": "code",
   "execution_count": 6,
   "metadata": {},
   "outputs": [],
   "source": [
    "from langchain_core.prompts import ChatPromptTemplate"
   ]
  },
  {
   "cell_type": "code",
   "execution_count": 7,
   "metadata": {},
   "outputs": [],
   "source": [
    "system_prompt = (\n",
    "    \"# Knowledge Graph Instructions\\n\"\n",
    "    \"## 1. Overview\\n\"\n",
    "    \"You are a top-tier algorithm designed for extracting information in structured \"\n",
    "    \"formats to build a knowledge graph.\\n\"\n",
    "    \"Try to capture as much information from the text as possible without \"\n",
    "    \"sacrificing accuracy. Do not add any information that is not explicitly \"\n",
    "    \"mentioned in the text.\\n\"\n",
    "    \"- **Nodes** represent entities and concepts.\\n\"\n",
    "    \"- The aim is to achieve simplicity and clarity in the knowledge graph, making it\\n\"\n",
    "    \"accessible for a vast audience.\\n\"\n",
    "    \"## 2. Labeling Nodes\\n\"\n",
    "    \"- **Consistency**: Ensure you use available types for node labels.\\n\"\n",
    "    \"Ensure you use basic or elementary types for node labels.\\n\"\n",
    "    \"- For example, when you identify an entity representing a person, \"\n",
    "    \"always label it as **'person'**. Avoid using more specific terms \"\n",
    "    \"like 'mathematician' or 'scientist'.\"\n",
    "    \"- **Node IDs**: Never utilize integers as node IDs. Node IDs should be \"\n",
    "    \"names or human-readable identifiers found in the text.\\n\"\n",
    "    \"- **Node Names**: Create a **name** property for each node it should be names, or human-readable identifiers found in the text.\\n\"\n",
    "    \"- **Relationships** represent connections between entities or concepts.\\n\"\n",
    "    \"Ensure consistency and generality in relationship types when constructing \"\n",
    "    \"knowledge graphs. Instead of using specific and momentary types \"\n",
    "    \"such as 'BECAME_PROFESSOR', use more general and timeless relationship types \"\n",
    "    \"like 'PROFESSOR'. Make sure to use general and timeless relationship types!\\n\"\n",
    "    \"## 3. Coreference Resolution\\n\"\n",
    "    \"- **Maintain Entity Consistency**: When extracting entities, it's vital to \"\n",
    "    \"ensure consistency.\\n\"\n",
    "    'If an entity, such as \"John Doe\", is mentioned multiple times in the text '\n",
    "    'but is referred to by different names or pronouns (e.g., \"Joe\", \"he\"),'\n",
    "    \"always use the most complete identifier for that entity throughout the \"\n",
    "    'knowledge graph. In this example, use \"John Doe\" as the entity ID.\\n'\n",
    "    \"Remember, the knowledge graph should be coherent and easily understandable, \"\n",
    "    \"so maintaining consistency in entity references is crucial.\\n\"\n",
    "    \"## 4. Strict Compliance\\n\"\n",
    "    \"Adhere to the rules strictly. Non-compliance will result in termination.\"\n",
    ")\n",
    "custom_prompt = ChatPromptTemplate.from_messages(\n",
    "    [\n",
    "        (\n",
    "            \"system\",\n",
    "            system_prompt,\n",
    "        ),\n",
    "        (\n",
    "            \"human\",\n",
    "            (\n",
    "                \"Tip: Make sure to answer in the correct format and do \"\n",
    "                \"not include any explanations. \"\n",
    "                \"Make sure to **strictly** add name property for each node.\"\n",
    "                \"Remember that some information may be saved as properties of nodes and relationships, think it through add few items as properties as you see fit.\"\n",
    "                \"Use the given format to extract information from the \"\n",
    "                \"following input: {input}\"\n",
    "            ),\n",
    "        ),\n",
    "    ]\n",
    ")"
   ]
  },
  {
   "cell_type": "code",
   "execution_count": 8,
   "metadata": {},
   "outputs": [],
   "source": [
    "from langchain_experimental.graph_transformers import LLMGraphTransformer"
   ]
  },
  {
   "cell_type": "code",
   "execution_count": 9,
   "metadata": {},
   "outputs": [],
   "source": [
    "graph_maker = LLMGraphTransformer(llm=llm_anthropic, node_properties=True, relationship_properties=True, strict_mode=True, prompt=custom_prompt)"
   ]
  },
  {
   "cell_type": "code",
   "execution_count": 10,
   "metadata": {},
   "outputs": [],
   "source": [
    "from langchain_community.document_loaders import PyPDFLoader\n",
    "\n",
    "loader = PyPDFLoader(\"../sample/mango.pdf\")\n",
    "docs = loader.load()"
   ]
  },
  {
   "cell_type": "code",
   "execution_count": 11,
   "metadata": {},
   "outputs": [],
   "source": [
    "from langchain.text_splitter import RecursiveCharacterTextSplitter\n",
    "text_splitter = RecursiveCharacterTextSplitter(chunk_size=4000, chunk_overlap=100)\n",
    "text_chunks = text_splitter.split_documents(docs)"
   ]
  },
  {
   "cell_type": "code",
   "execution_count": 12,
   "metadata": {},
   "outputs": [
    {
     "data": {
      "text/plain": [
       "7"
      ]
     },
     "execution_count": 12,
     "metadata": {},
     "output_type": "execute_result"
    }
   ],
   "source": [
    "len(text_chunks)"
   ]
  },
  {
   "cell_type": "code",
   "execution_count": 18,
   "metadata": {},
   "outputs": [],
   "source": [
    "graph_documents = graph_maker.convert_to_graph_documents(text_chunks)"
   ]
  },
  {
   "cell_type": "code",
   "execution_count": 26,
   "metadata": {},
   "outputs": [
    {
     "data": {
      "text/plain": [
       "[Relationship(source=Node(id='Mango', type='Fruit'), target=Node(id='Mangifera Indica', type='Plant'), type='PRODUCED_BY'),\n",
       " Relationship(source=Node(id='Mangifera Indica', type='Plant'), target=Node(id='Mango_Fruit', type='Fruit'), type='PRODUCES'),\n",
       " Relationship(source=Node(id='Mangifera Indica', type='Plant'), target=Node(id='Mango_Leaf', type='Plant_part'), type='HAS_PART'),\n",
       " Relationship(source=Node(id='Mangifera Indica', type='Plant'), target=Node(id='Mango_Flower', type='Plant_part'), type='HAS_PART'),\n",
       " Relationship(source=Node(id='Bangladesh', type='Country'), target=Node(id='Mangifera Indica', type='Plant'), type='NATIONAL_TREE')]"
      ]
     },
     "execution_count": 26,
     "metadata": {},
     "output_type": "execute_result"
    }
   ],
   "source": [
    "graph_documents[0].nodes\n",
    "graph_documents[0].relationships"
   ]
  },
  {
   "cell_type": "code",
   "execution_count": 13,
   "metadata": {},
   "outputs": [],
   "source": [
    "from langchain_community.graphs import Neo4jGraph"
   ]
  },
  {
   "cell_type": "code",
   "execution_count": 14,
   "metadata": {},
   "outputs": [],
   "source": [
    "graph = Neo4jGraph(driver_config={\"max_connection_lifetime\": 3600})"
   ]
  },
  {
   "cell_type": "code",
   "execution_count": 19,
   "metadata": {},
   "outputs": [],
   "source": [
    "graph.add_graph_documents(graph_documents)"
   ]
  },
  {
   "cell_type": "code",
   "execution_count": 15,
   "metadata": {},
   "outputs": [
    {
     "data": {
      "text/plain": [
       "{'node_props': {'Fruit': [{'property': 'id', 'type': 'STRING'},\n",
       "   {'property': 'name', 'type': 'STRING'},\n",
       "   {'property': 'national_fruit_of', 'type': 'STRING'},\n",
       "   {'property': 'scientific_name', 'type': 'STRING'},\n",
       "   {'property': 'origin', 'type': 'STRING'},\n",
       "   {'property': 'length_range', 'type': 'STRING'},\n",
       "   {'property': 'weight_range', 'type': 'STRING'},\n",
       "   {'property': 'ripening_time', 'type': 'STRING'}],\n",
       "  'Plant': [{'property': 'id', 'type': 'STRING'},\n",
       "   {'property': 'name', 'type': 'STRING'},\n",
       "   {'property': 'crown_radius', 'type': 'STRING'},\n",
       "   {'property': 'common_name', 'type': 'STRING'},\n",
       "   {'property': 'lifespan', 'type': 'STRING'},\n",
       "   {'property': 'height', 'type': 'STRING'},\n",
       "   {'property': 'scientific_name', 'type': 'STRING'}],\n",
       "  'Plant_part': [{'property': 'id', 'type': 'STRING'},\n",
       "   {'property': 'name', 'type': 'STRING'},\n",
       "   {'property': 'arrangement', 'type': 'STRING'},\n",
       "   {'property': 'shape', 'type': 'STRING'},\n",
       "   {'property': 'length', 'type': 'STRING'},\n",
       "   {'property': 'width', 'type': 'STRING'},\n",
       "   {'property': 'type', 'type': 'STRING'},\n",
       "   {'property': 'fragrance', 'type': 'STRING'},\n",
       "   {'property': 'petal_count', 'type': 'STRING'},\n",
       "   {'property': 'petal_length', 'type': 'STRING'},\n",
       "   {'property': 'panicle_length', 'type': 'STRING'},\n",
       "   {'property': 'thickness', 'type': 'STRING'}],\n",
       "  'Country': [{'property': 'id', 'type': 'STRING'},\n",
       "   {'property': 'name', 'type': 'STRING'},\n",
       "   {'property': 'production_2022', 'type': 'STRING'}],\n",
       "  'Mango': [{'property': 'id', 'type': 'STRING'},\n",
       "   {'property': 'name', 'type': 'STRING'},\n",
       "   {'property': 'type', 'type': 'STRING'},\n",
       "   {'property': 'embryony', 'type': 'STRING'}],\n",
       "  'Location': [{'property': 'id', 'type': 'STRING'},\n",
       "   {'property': 'name', 'type': 'STRING'}],\n",
       "  'Mango_group': [{'property': 'id', 'type': 'STRING'},\n",
       "   {'property': 'name', 'type': 'STRING'},\n",
       "   {'property': 'embryony', 'type': 'STRING'}],\n",
       "  'Cultivar': [{'property': 'id', 'type': 'STRING'},\n",
       "   {'property': 'name', 'type': 'STRING'},\n",
       "   {'property': 'description', 'type': 'STRING'},\n",
       "   {'property': 'origin', 'type': 'STRING'},\n",
       "   {'property': 'location', 'type': 'STRING'},\n",
       "   {'property': 'first_fruited', 'type': 'STRING'}],\n",
       "  'Organization': [{'property': 'id', 'type': 'STRING'},\n",
       "   {'property': 'name', 'type': 'STRING'},\n",
       "   {'property': 'full_name', 'type': 'STRING'}],\n",
       "  'Mango cultivar': [{'property': 'id', 'type': 'STRING'},\n",
       "   {'property': 'name', 'type': 'STRING'},\n",
       "   {'property': 'origin', 'type': 'STRING'}],\n",
       "  'Person': [{'property': 'id', 'type': 'STRING'},\n",
       "   {'property': 'name', 'type': 'STRING'},\n",
       "   {'property': 'profession', 'type': 'STRING'}],\n",
       "  'Food': [{'property': 'id', 'type': 'STRING'},\n",
       "   {'property': 'name', 'type': 'STRING'},\n",
       "   {'property': 'taste', 'type': 'STRING'},\n",
       "   {'property': 'type', 'type': 'STRING'},\n",
       "   {'property': 'description', 'type': 'STRING'},\n",
       "   {'property': 'origin', 'type': 'STRING'}],\n",
       "  'Chemical': [{'property': 'id', 'type': 'STRING'},\n",
       "   {'property': 'name', 'type': 'STRING'}],\n",
       "  'Nutrient': [{'property': 'id', 'type': 'STRING'},\n",
       "   {'property': 'name', 'type': 'STRING'},\n",
       "   {'property': 'amount', 'type': 'STRING'},\n",
       "   {'property': 'daily_value_percentage', 'type': 'STRING'}],\n",
       "  'Substance': [{'property': 'id', 'type': 'STRING'},\n",
       "   {'property': 'name', 'type': 'STRING'}]},\n",
       " 'rel_props': {'PRODUCES': [{'property': 'year', 'type': 'STRING'},\n",
       "   {'property': 'amount', 'type': 'STRING'}],\n",
       "  'INTRODUCED_TO': [{'property': 'time_period', 'type': 'STRING'},\n",
       "   {'property': 'year', 'type': 'STRING'}],\n",
       "  'DISCOVERED': [{'property': 'year', 'type': 'STRING'},\n",
       "   {'property': 'discovery', 'type': 'STRING'}]},\n",
       " 'relationships': [{'start': 'Fruit', 'type': 'PRODUCED_BY', 'end': 'Plant'},\n",
       "  {'start': 'Fruit', 'type': 'ORIGINATED_FROM', 'end': 'Location'},\n",
       "  {'start': 'Plant', 'type': 'PRODUCES', 'end': 'Fruit'},\n",
       "  {'start': 'Plant', 'type': 'HAS_PART', 'end': 'Plant_part'},\n",
       "  {'start': 'Plant', 'type': 'DOMESTICATED_IN', 'end': 'Location'},\n",
       "  {'start': 'Plant', 'type': 'INTRODUCED_TO', 'end': 'Location'},\n",
       "  {'start': 'Plant', 'type': 'CULTIVATED_IN', 'end': 'Location'},\n",
       "  {'start': 'Plant', 'type': 'NATIONAL_TREE_OF', 'end': 'Country'},\n",
       "  {'start': 'Plant_part', 'type': 'PART_OF', 'end': 'Fruit'},\n",
       "  {'start': 'Plant_part', 'type': 'CONTAINED_IN', 'end': 'Plant_part'},\n",
       "  {'start': 'Country', 'type': 'NATIONAL_TREE', 'end': 'Plant'},\n",
       "  {'start': 'Country', 'type': 'PRODUCES', 'end': 'Fruit'},\n",
       "  {'start': 'Mango', 'type': 'BELONGS_TO', 'end': 'Mango_group'},\n",
       "  {'start': 'Location', 'type': 'PART_OF', 'end': 'Country'},\n",
       "  {'start': 'Location', 'type': 'PART_OF', 'end': 'Location'},\n",
       "  {'start': 'Location', 'type': 'PRODUCES', 'end': 'Fruit'},\n",
       "  {'start': 'Cultivar', 'type': 'VARIETY_OF', 'end': 'Plant'},\n",
       "  {'start': 'Organization', 'type': 'PART_OF', 'end': 'Organization'},\n",
       "  {'start': 'Mango cultivar', 'type': 'ORIGINATES_FROM', 'end': 'Country'},\n",
       "  {'start': 'Person', 'type': 'CITIZEN_OF', 'end': 'Country'},\n",
       "  {'start': 'Person', 'type': 'DISCOVERED', 'end': 'Fruit'},\n",
       "  {'start': 'Food', 'type': 'VARIETY_OF', 'end': 'Food'},\n",
       "  {'start': 'Food', 'type': 'CONSUMED_IN', 'end': 'Location'},\n",
       "  {'start': 'Food', 'type': 'ORIGIN', 'end': 'Location'},\n",
       "  {'start': 'Food', 'type': 'INGREDIENT_OF', 'end': 'Food'},\n",
       "  {'start': 'Food', 'type': 'CONTAINS', 'end': 'Nutrient'},\n",
       "  {'start': 'Food', 'type': 'CONTAINS', 'end': 'Substance'},\n",
       "  {'start': 'Food', 'type': 'NATIONAL_FRUIT_OF', 'end': 'Country'},\n",
       "  {'start': 'Food', 'type': 'PROCESSED_INTO', 'end': 'Food'},\n",
       "  {'start': 'Food', 'type': 'IS_A_TYPE_OF', 'end': 'Food'},\n",
       "  {'start': 'Chemical', 'type': 'FLAVOR_COMPONENT', 'end': 'Food'},\n",
       "  {'start': 'Chemical', 'type': 'CONTAINS', 'end': 'Food'},\n",
       "  {'start': 'Substance', 'type': 'CROSS_REACTS_WITH', 'end': 'Substance'}],\n",
       " 'metadata': {'constraint': [], 'index': []}}"
      ]
     },
     "execution_count": 15,
     "metadata": {},
     "output_type": "execute_result"
    }
   ],
   "source": [
    "graph.refresh_schema()\n",
    "graph.structured_schema"
   ]
  },
  {
   "cell_type": "code",
   "execution_count": 16,
   "metadata": {},
   "outputs": [
    {
     "data": {
      "application/javascript": "var link = document.createElement(\"link\");\n\tlink.rel = \"stylesheet\";\n\tlink.type = \"text/css\";\n\tlink.href = \"https://cdnjs.cloudflare.com/ajax/libs/vis/4.8.2/vis.css\";\n\tdocument.head.appendChild(link);\nrequire.config({     paths: {         vis: '//cdnjs.cloudflare.com/ajax/libs/vis/4.8.2/vis.min'     } }); require(['vis'], function(vis) {  window.vis = vis; }); ",
      "text/plain": [
       "<IPython.core.display.Javascript object>"
      ]
     },
     "metadata": {},
     "output_type": "display_data"
    }
   ],
   "source": [
    "import neo4jupyter\n",
    "neo4jupyter.init_notebook_mode()"
   ]
  },
  {
   "cell_type": "code",
   "execution_count": 17,
   "metadata": {},
   "outputs": [],
   "source": [
    "def show_graph():\n",
    "    load_dotenv()\n",
    "    NEO4J_URI = os.getenv(\"NEO4J_URI\")\n",
    "    NEW_NEO4J_URI = NEO4J_URI.replace(\"neo4j+s://\", \"bolt+s://\")\n",
    "    os.environ.pop('NEO4J_URI')\n",
    "\n",
    "    from py2neo import Graph\n",
    "    vis_graph = Graph(NEW_NEO4J_URI, auth=(os.getenv(\"NEO4J_USERNAME\"), os.getenv(\"NEO4J_PASSWORD\")))\n",
    "\n",
    "    query = \"MATCH (n) RETURN COUNT(n) AS total_nodes\"\n",
    "    result = vis_graph.run(query).data()\n",
    "\n",
    "    total_nodes = result[0]['total_nodes']\n",
    "\n",
    "    os.environ[\"NEO4J_URI\"] = NEO4J_URI\n",
    "    return neo4jupyter.draw(vis_graph,{}, limit=total_nodes)\n",
    "    "
   ]
  },
  {
   "cell_type": "code",
   "execution_count": 18,
   "metadata": {},
   "outputs": [
    {
     "data": {
      "text/html": [
       "<div id=\"245b4ddb-0e54-4335-952c-e15cbd958e08\" style=\"height: 400px;\"></div>\n",
       "\n",
       "<script type=\"text/javascript\">\n",
       "\n",
       "    var nodes = [{\"id\": 61, \"label\": \"\", \"group\": \"Food\", \"title\": \"Node('Food', description='Thick juice made of mangoes with sugar or milk', id='Aamras', name='Aamras')\"}, {\"id\": 6, \"label\": \"\", \"group\": \"Mango\", \"title\": \"Node('Mango', embryony='polyembryonic', id='Carabao', name='Carabao', type='Southeast Asian type')\"}, {\"id\": 15, \"label\": \"\", \"group\": \"Mango_group\", \"title\": \"Node('Mango_group', embryony='polyembryonic', id='Southeast_Asian_Group', name='Southeast Asian Group')\"}, {\"id\": 18, \"label\": \"\", \"group\": \"Location\", \"title\": \"Node('Location', id='South Asia', name='South Asia')\"}, {\"id\": 67, \"label\": \"\", \"group\": \"Location\", \"title\": \"Node('Location', id='Central America', name='Central America')\"}, {\"id\": 80, \"label\": \"\", \"group\": \"Substance\", \"title\": \"Node('Substance', id='Urushiol', name='Urushiol')\"}, {\"id\": 58, \"label\": \"\", \"group\": \"Location\", \"title\": \"Node('Location', id='India', name='India')\"}, {\"id\": 69, \"label\": \"\", \"group\": \"Food\", \"title\": \"Node('Food', id='Alphonso', name='Alphonso', origin='India')\"}, {\"id\": 51, \"label\": \"\", \"group\": \"Food\", \"title\": \"Node('Food', id='Mango', name='Mango')\"}, {\"id\": 29, \"label\": \"\", \"group\": \"Location\", \"title\": \"Node('Location', id='Spain', name='Spain')\"}, {\"id\": 76, \"label\": \"\", \"group\": \"Nutrient\", \"title\": \"Node('Nutrient', amount='36.4 mg', daily_value_percentage='44%', id='Vitamin C', name='Vitamin C')\"}, {\"id\": 3, \"label\": \"\", \"group\": \"Plant_part\", \"title\": \"Node('Plant_part', arrangement='Alternate', id='Mango_Leaf', length='15-35 centimetres', name='Mango leaf', shape='Simple', type='Evergreen', width='6-16 centimetres')\"}, {\"id\": 40, \"label\": \"\", \"group\": \"Location\", \"title\": \"Node('Location', id='North America', name='North America')\"}, {\"id\": 0, \"label\": \"\", \"group\": \"Fruit\", \"title\": \"Node('Fruit', id='Mango', name='Mango', national_fruit_of='India, Pakistan, Philippines', origin='Region between northwestern Myanmar, Bangladesh, and northeastern India', scientific_name='Mangifera indica')\"}, {\"id\": 16, \"label\": \"\", \"group\": \"Plant\", \"title\": \"Node('Plant', id='Mango', name='Mango', scientific_name='Mangifera indica')\"}, {\"id\": 17, \"label\": \"\", \"group\": \"Location\", \"title\": \"Node('Location', id='Southeast Asia', name='Southeast Asia')\"}, {\"id\": 22, \"label\": \"\", \"group\": \"Location\", \"title\": \"Node('Location', id='East Africa', name='East Africa')\"}, {\"id\": 23, \"label\": \"\", \"group\": \"Location\", \"title\": \"Node('Location', id='West Africa', name='West Africa')\"}, {\"id\": 24, \"label\": \"\", \"group\": \"Location\", \"title\": \"Node('Location', id='Brazil', name='Brazil')\"}, {\"id\": 25, \"label\": \"\", \"group\": \"Location\", \"title\": \"Node('Location', id='Caribbean', name='Caribbean')\"}, {\"id\": 26, \"label\": \"\", \"group\": \"Location\", \"title\": \"Node('Location', id='Mexico', name='Mexico')\"}, {\"id\": 27, \"label\": \"\", \"group\": \"Location\", \"title\": \"Node('Location', id='Philippines', name='Philippines')\"}, {\"id\": 28, \"label\": \"\", \"group\": \"Location\", \"title\": \"Node('Location', id='Florida', name='Florida')\"}, {\"id\": 12, \"label\": \"\", \"group\": \"Location\", \"title\": \"Node('Location', id='Bangladesh', name='Bangladesh')\"}, {\"id\": 14, \"label\": \"\", \"group\": \"Mango_group\", \"title\": \"Node('Mango_group', embryony='monoembryonic', id='Indian_Group', name='Indian Group')\"}, {\"id\": 42, \"label\": \"\", \"group\": \"Location\", \"title\": \"Node('Location', id='California Coachella Valley', name='California Coachella Valley')\"}, {\"id\": 65, \"label\": \"\", \"group\": \"Food\", \"title\": \"Node('Food', description='Sweet, grated mango delicacy', id='Muramba', name='Muramba')\"}, {\"id\": 41, \"label\": \"\", \"group\": \"Location\", \"title\": \"Node('Location', id='South Florida', name='South Florida')\"}, {\"id\": 52, \"label\": \"\", \"group\": \"Food\", \"title\": \"Node('Food', id='Carabao Mango', name='Carabao mango')\"}, {\"id\": 53, \"label\": \"\", \"group\": \"Food\", \"title\": \"Node('Food', id='Alphonso Mango', name='Alphonso mango')\"}, {\"id\": 54, \"label\": \"\", \"group\": \"Food\", \"title\": \"Node('Food', id='Ataulfo Mango', name='Ataulfo mango')\"}, {\"id\": 55, \"label\": \"\", \"group\": \"Food\", \"title\": \"Node('Food', id='Mango Juice', name='Mango juice')\"}, {\"id\": 56, \"label\": \"\", \"group\": \"Food\", \"title\": \"Node('Food', id='Mango Chutney', name='Mango chutney')\"}, {\"id\": 64, \"label\": \"\", \"group\": \"Food\", \"title\": \"Node('Food', description='Fruit preserves', id='Murabba', name='Murabba')\"}, {\"id\": 59, \"label\": \"\", \"group\": \"Food\", \"title\": \"Node('Food', id='Aam Panna', name='Aam panna', type='Summer drink')\"}, {\"id\": 60, \"label\": \"\", \"group\": \"Food\", \"title\": \"Node('Food', id='Mango Lassi', name='Mango lassi')\"}, {\"id\": 62, \"label\": \"\", \"group\": \"Food\", \"title\": \"Node('Food', id='Mangada', name='Mangada', type='Jam')\"}, {\"id\": 68, \"label\": \"\", \"group\": \"Food\", \"title\": \"Node('Food', id='Mango Sticky Rice', name='Mango sticky rice')\"}, {\"id\": 77, \"label\": \"\", \"group\": \"Nutrient\", \"title\": \"Node('Nutrient', amount='43 \\u03bcg', daily_value_percentage='11%', id='Folate', name='Folate')\"}, {\"id\": 79, \"label\": \"\", \"group\": \"Substance\", \"title\": \"Node('Substance', id='Mango Allergens', name='Mango Allergens')\"}, {\"id\": 30, \"label\": \"\", \"group\": \"Country\", \"title\": \"Node('Country', id='India', name='India', production_2022='26.34 million tonnes')\"}, {\"id\": 38, \"label\": \"\", \"group\": \"Location\", \"title\": \"Node('Location', id='Canary Islands', name='Canary Islands')\"}, {\"id\": 39, \"label\": \"\", \"group\": \"Country\", \"title\": \"Node('Country', id='Spain', name='Spain')\"}, {\"id\": 66, \"label\": \"\", \"group\": \"Food\", \"title\": \"Node('Food', description='Dried and powdered unripe mango', id='Amchur', name='Amchur')\"}, {\"id\": 31, \"label\": \"\", \"group\": \"Country\", \"title\": \"Node('Country', id='Indonesia', name='Indonesia', production_2022='13.82 million tonnes')\"}, {\"id\": 73, \"label\": \"\", \"group\": \"Chemical\", \"title\": \"Node('Chemical', id='Ester', name='Ester')\"}, {\"id\": 1, \"label\": \"\", \"group\": \"Plant\", \"title\": \"Node('Plant', common_name='Mango tree', crown_radius='10-15 metres', height='30-40 metres', id='Mangifera Indica', lifespan='Over 300 years', name='Mangifera indica')\"}, {\"id\": 10, \"label\": \"\", \"group\": \"Plant\", \"title\": \"Node('Plant', id='Mango_Tree', name='Mango Tree')\"}, {\"id\": 11, \"label\": \"\", \"group\": \"Location\", \"title\": \"Node('Location', id='Northwestern_Myanmar', name='Northwestern Myanmar')\"}, {\"id\": 13, \"label\": \"\", \"group\": \"Location\", \"title\": \"Node('Location', id='Northeastern_India', name='Northeastern India')\"}, {\"id\": 20, \"label\": \"\", \"group\": \"Cultivar\", \"title\": \"Node('Cultivar', description='prolific cultivar in Jamaica', id='Julie', name='Julie')\"}, {\"id\": 50, \"label\": \"\", \"group\": \"Mango cultivar\", \"title\": \"Node('Mango cultivar', id='Tommy Atkins', name='Tommy Atkins')\"}, {\"id\": 74, \"label\": \"\", \"group\": \"Chemical\", \"title\": \"Node('Chemical', id='Beta-Carotene', name='Beta-carotene')\"}, {\"id\": 34, \"label\": \"\", \"group\": \"Country\", \"title\": \"Node('Country', id='Mexico', name='Mexico', production_2022='2 million tonnes')\"}, {\"id\": 70, \"label\": \"\", \"group\": \"Chemical\", \"title\": \"Node('Chemical', id='Lactones', name='Lactones')\"}, {\"id\": 2, \"label\": \"\", \"group\": \"Fruit\", \"title\": \"Node('Fruit', id='Mango_Fruit', length_range='5-25 centimetres', name='Mango fruit', ripening_time='Four to five months from flowering', weight_range='140 grams to 2 kilograms')\"}, {\"id\": 4, \"label\": \"\", \"group\": \"Plant_part\", \"title\": \"Node('Plant_part', arrangement='Terminal panicles', fragrance='Mild, sweet', id='Mango_Flower', name='Mango flower', panicle_length='10-40 centimetres', petal_count='Five', petal_length='5-10 millimetres')\"}, {\"id\": 7, \"label\": \"\", \"group\": \"Mango\", \"title\": \"Node('Mango', embryony='monoembryonic', id='Langra', name='Langra', type='Indian type')\"}, {\"id\": 37, \"label\": \"\", \"group\": \"Organization\", \"title\": \"Node('Organization', id='United Nations', name='United Nations')\"}, {\"id\": 8, \"label\": \"\", \"group\": \"Plant_part\", \"title\": \"Node('Plant_part', id='Mango_Pit', name='Mango Pit', thickness='1\\u20132 mm')\"}, {\"id\": 71, \"label\": \"\", \"group\": \"Chemical\", \"title\": \"Node('Chemical', id='Furanones', name='Furanones')\"}, {\"id\": 44, \"label\": \"\", \"group\": \"Country\", \"title\": \"Node('Country', id='Australia', name='Australia')\"}, {\"id\": 63, \"label\": \"\", \"group\": \"Food\", \"title\": \"Node('Food', id='Andhra Aavakaaya', name='Andhra aavakaaya', type='Pickle')\"}, {\"id\": 57, \"label\": \"\", \"group\": \"Food\", \"title\": \"Node('Food', id='Unripe Mango', name='Unripe mango', taste='Sour')\"}, {\"id\": 35, \"label\": \"\", \"group\": \"Country\", \"title\": \"Node('Country', id='Brazil', name='Brazil')\"}, {\"id\": 32, \"label\": \"\", \"group\": \"Country\", \"title\": \"Node('Country', id='China', name='China', production_2022='2.52 million tonnes')\"}, {\"id\": 48, \"label\": \"\", \"group\": \"Country\", \"title\": \"Node('Country', id='Philippines', name='Philippines')\"}, {\"id\": 78, \"label\": \"\", \"group\": \"Plant\", \"title\": \"Node('Plant', id='Mango Tree', name='Mango Tree')\"}, {\"id\": 5, \"label\": \"\", \"group\": \"Country\", \"title\": \"Node('Country', id='Bangladesh', name='Bangladesh')\"}, {\"id\": 46, \"label\": \"\", \"group\": \"Country\", \"title\": \"Node('Country', id='Cuba', name='Cuba')\"}, {\"id\": 9, \"label\": \"\", \"group\": \"Plant_part\", \"title\": \"Node('Plant_part', id='Mango_Seed', length='4\\u20137 cm', name='Mango Seed')\"}, {\"id\": 75, \"label\": \"\", \"group\": \"Chemical\", \"title\": \"Node('Chemical', id='Mangiferin', name='Mangiferin')\"}, {\"id\": 21, \"label\": \"\", \"group\": \"Cultivar\", \"title\": \"Node('Cultivar', first_fruited='1940', id='Tommy Atkins', location='southern Florida', name='Tommy Atkins', origin=\\\"seedling of 'Haden'\\\")\"}, {\"id\": 72, \"label\": \"\", \"group\": \"Chemical\", \"title\": \"Node('Chemical', id='Terpene', name='Terpene')\"}, {\"id\": 33, \"label\": \"\", \"group\": \"Country\", \"title\": \"Node('Country', id='Pakistan', name='Pakistan', production_2022='1.59 million tonnes')\"}, {\"id\": 43, \"label\": \"\", \"group\": \"Location\", \"title\": \"Node('Location', id='Hawaii', name='Hawaii')\"}, {\"id\": 49, \"label\": \"\", \"group\": \"Mango cultivar\", \"title\": \"Node('Mango cultivar', id='Alphonso', name='Alphonso')\"}, {\"id\": 45, \"label\": \"\", \"group\": \"Mango cultivar\", \"title\": \"Node('Mango cultivar', id='Gomera-1', name='Gomera-1', origin='Cuba')\"}, {\"id\": 36, \"label\": \"\", \"group\": \"Organization\", \"title\": \"Node('Organization', full_name='Food and Agriculture Organization Corporate Statistical Database', id='Faostat', name='FAOSTAT')\"}, {\"id\": 19, \"label\": \"\", \"group\": \"Cultivar\", \"title\": \"Node('Cultivar', description=\\\"important export product, considered 'the king of mangoes'\\\", id='Alphonso', name='Alphonso')\"}, {\"id\": 47, \"label\": \"\", \"group\": \"Person\", \"title\": \"Node('Person', id='Ramon Barba', name='Ramon Barba', profession='Filipino horticulturist')\"}];\n",
       "    var edges = [{\"from\": 6, \"to\": 15, \"label\": \"BELONGS_TO\"}, {\"from\": 69, \"to\": 51, \"label\": \"IS_A_TYPE_OF\"}, {\"from\": 40, \"to\": 0, \"label\": \"PRODUCES\"}, {\"from\": 16, \"to\": 17, \"label\": \"DOMESTICATED_IN\"}, {\"from\": 16, \"to\": 18, \"label\": \"DOMESTICATED_IN\"}, {\"from\": 16, \"to\": 22, \"label\": \"INTRODUCED_TO\"}, {\"from\": 16, \"to\": 23, \"label\": \"INTRODUCED_TO\"}, {\"from\": 16, \"to\": 24, \"label\": \"INTRODUCED_TO\"}, {\"from\": 16, \"to\": 25, \"label\": \"INTRODUCED_TO\"}, {\"from\": 16, \"to\": 26, \"label\": \"INTRODUCED_TO\"}, {\"from\": 16, \"to\": 27, \"label\": \"INTRODUCED_TO\"}, {\"from\": 16, \"to\": 28, \"label\": \"INTRODUCED_TO\"}, {\"from\": 16, \"to\": 29, \"label\": \"CULTIVATED_IN\"}, {\"from\": 42, \"to\": 40, \"label\": \"PART_OF\"}, {\"from\": 41, \"to\": 40, \"label\": \"PART_OF\"}, {\"from\": 51, \"to\": 52, \"label\": \"VARIETY_OF\"}, {\"from\": 51, \"to\": 53, \"label\": \"VARIETY_OF\"}, {\"from\": 51, \"to\": 54, \"label\": \"VARIETY_OF\"}, {\"from\": 51, \"to\": 55, \"label\": \"PROCESSED_INTO\"}, {\"from\": 51, \"to\": 56, \"label\": \"PROCESSED_INTO\"}, {\"from\": 51, \"to\": 64, \"label\": \"PROCESSED_INTO\"}, {\"from\": 51, \"to\": 65, \"label\": \"PROCESSED_INTO\"}, {\"from\": 51, \"to\": 17, \"label\": \"CONSUMED_IN\"}, {\"from\": 51, \"to\": 67, \"label\": \"CONSUMED_IN\"}, {\"from\": 51, \"to\": 58, \"label\": \"ORIGIN\"}, {\"from\": 51, \"to\": 59, \"label\": \"INGREDIENT_OF\"}, {\"from\": 51, \"to\": 60, \"label\": \"INGREDIENT_OF\"}, {\"from\": 51, \"to\": 61, \"label\": \"INGREDIENT_OF\"}, {\"from\": 51, \"to\": 62, \"label\": \"INGREDIENT_OF\"}, {\"from\": 51, \"to\": 68, \"label\": \"INGREDIENT_OF\"}, {\"from\": 51, \"to\": 76, \"label\": \"CONTAINS\"}, {\"from\": 51, \"to\": 77, \"label\": \"CONTAINS\"}, {\"from\": 51, \"to\": 79, \"label\": \"CONTAINS\"}, {\"from\": 51, \"to\": 30, \"label\": \"NATIONAL_FRUIT_OF\"}, {\"from\": 38, \"to\": 39, \"label\": \"PART_OF\"}, {\"from\": 31, \"to\": 0, \"label\": \"PRODUCES\"}, {\"from\": 73, \"to\": 51, \"label\": \"FLAVOR_COMPONENT\"}, {\"from\": 0, \"to\": 1, \"label\": \"PRODUCED_BY\"}, {\"from\": 0, \"to\": 10, \"label\": \"PRODUCED_BY\"}, {\"from\": 0, \"to\": 11, \"label\": \"ORIGINATED_FROM\"}, {\"from\": 0, \"to\": 12, \"label\": \"ORIGINATED_FROM\"}, {\"from\": 0, \"to\": 13, \"label\": \"ORIGINATED_FROM\"}, {\"from\": 20, \"to\": 16, \"label\": \"VARIETY_OF\"}, {\"from\": 74, \"to\": 51, \"label\": \"CONTAINS\"}, {\"from\": 79, \"to\": 80, \"label\": \"CROSS_REACTS_WITH\"}, {\"from\": 34, \"to\": 0, \"label\": \"PRODUCES\"}, {\"from\": 70, \"to\": 69, \"label\": \"FLAVOR_COMPONENT\"}, {\"from\": 1, \"to\": 2, \"label\": \"PRODUCES\"}, {\"from\": 1, \"to\": 3, \"label\": \"HAS_PART\"}, {\"from\": 1, \"to\": 4, \"label\": \"HAS_PART\"}, {\"from\": 7, \"to\": 14, \"label\": \"BELONGS_TO\"}, {\"from\": 30, \"to\": 0, \"label\": \"PRODUCES\"}, {\"from\": 8, \"to\": 0, \"label\": \"PART_OF\"}, {\"from\": 71, \"to\": 69, \"label\": \"FLAVOR_COMPONENT\"}, {\"from\": 44, \"to\": 0, \"label\": \"PRODUCES\"}, {\"from\": 57, \"to\": 66, \"label\": \"PROCESSED_INTO\"}, {\"from\": 57, \"to\": 27, \"label\": \"CONSUMED_IN\"}, {\"from\": 57, \"to\": 63, \"label\": \"INGREDIENT_OF\"}, {\"from\": 35, \"to\": 0, \"label\": \"PRODUCES\"}, {\"from\": 32, \"to\": 0, \"label\": \"PRODUCES\"}, {\"from\": 39, \"to\": 0, \"label\": \"PRODUCES\"}, {\"from\": 78, \"to\": 5, \"label\": \"NATIONAL_TREE_OF\"}, {\"from\": 9, \"to\": 8, \"label\": \"CONTAINED_IN\"}, {\"from\": 75, \"to\": 51, \"label\": \"CONTAINS\"}, {\"from\": 21, \"to\": 16, \"label\": \"VARIETY_OF\"}, {\"from\": 72, \"to\": 51, \"label\": \"FLAVOR_COMPONENT\"}, {\"from\": 33, \"to\": 0, \"label\": \"PRODUCES\"}, {\"from\": 43, \"to\": 0, \"label\": \"PRODUCES\"}, {\"from\": 60, \"to\": 18, \"label\": \"CONSUMED_IN\"}, {\"from\": 5, \"to\": 1, \"label\": \"NATIONAL_TREE\"}, {\"from\": 45, \"to\": 46, \"label\": \"ORIGINATES_FROM\"}, {\"from\": 36, \"to\": 37, \"label\": \"PART_OF\"}, {\"from\": 19, \"to\": 16, \"label\": \"VARIETY_OF\"}, {\"from\": 47, \"to\": 48, \"label\": \"CITIZEN_OF\"}, {\"from\": 47, \"to\": 0, \"label\": \"DISCOVERED\"}];\n",
       "\n",
       "    var container = document.getElementById(\"245b4ddb-0e54-4335-952c-e15cbd958e08\");\n",
       "\n",
       "    var data = {\n",
       "        nodes: nodes,\n",
       "        edges: edges\n",
       "    };\n",
       "\n",
       "    var options = {\n",
       "    nodes: {\n",
       "        shape: 'dot',\n",
       "        size: 25,\n",
       "        font: {\n",
       "            size: 14\n",
       "        }\n",
       "    },\n",
       "    edges: {\n",
       "        font: {\n",
       "            size: 14,\n",
       "            align: 'middle'\n",
       "        },\n",
       "        color: 'gray',\n",
       "        arrows: {\n",
       "            to: {\n",
       "                enabled: true,\n",
       "                scaleFactor: 0.5\n",
       "            }\n",
       "        },\n",
       "        smooth: {\n",
       "            enabled: false\n",
       "        }\n",
       "    },\n",
       "    physics: {\n",
       "        enabled: true\n",
       "        }\n",
       "    };\n",
       "\n",
       "    var network = new vis.Network(container, data, options);\n",
       "\n",
       "</script>\n"
      ],
      "text/plain": [
       "<IPython.core.display.HTML object>"
      ]
     },
     "execution_count": 18,
     "metadata": {},
     "output_type": "execute_result"
    }
   ],
   "source": [
    "show_graph()"
   ]
  },
  {
   "cell_type": "code",
   "execution_count": 19,
   "metadata": {},
   "outputs": [],
   "source": [
    "\n",
    "system_prompt = \"\"\"\n",
    "Act as a entity disambiugation tool and tell me which values reference the same entity. \n",
    "For example if I give you\n",
    "\n",
    "Birds\n",
    "Bird\n",
    "Ant\n",
    "\n",
    "You return to me\n",
    "\n",
    "Birds, 1\n",
    "Bird, 1\n",
    "Ant, 2\n",
    "\n",
    "As the Bird and Birds values have the same integer assigned to them, it means that they reference the same entity.\n",
    "\"\"\"\n",
    "\n",
    "disambiguate_prompt = ChatPromptTemplate.from_messages(\n",
    "    [\n",
    "        (\n",
    "            \"system\",\n",
    "            system_prompt,\n",
    "        ),\n",
    "        (\n",
    "            \"human\",\n",
    "            (                \n",
    "                \"Perform disambiguation on the following values: \\n{input}\"\n",
    "            ),\n",
    "        ),\n",
    "    ]\n",
    ")"
   ]
  },
  {
   "cell_type": "code",
   "execution_count": null,
   "metadata": {},
   "outputs": [],
   "source": []
  }
 ],
 "metadata": {
  "kernelspec": {
   "display_name": "Python 3 (ipykernel)",
   "language": "python",
   "name": "python3"
  },
  "language_info": {
   "codemirror_mode": {
    "name": "ipython",
    "version": 3
   },
   "file_extension": ".py",
   "mimetype": "text/x-python",
   "name": "python",
   "nbconvert_exporter": "python",
   "pygments_lexer": "ipython3",
   "version": "3.11.0"
  }
 },
 "nbformat": 4,
 "nbformat_minor": 4
}
