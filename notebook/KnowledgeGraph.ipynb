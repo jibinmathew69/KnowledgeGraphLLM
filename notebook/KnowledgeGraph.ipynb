{
 "cells": [
  {
   "cell_type": "code",
   "execution_count": 1,
   "metadata": {},
   "outputs": [
    {
     "data": {
      "text/plain": [
       "True"
      ]
     },
     "execution_count": 1,
     "metadata": {},
     "output_type": "execute_result"
    }
   ],
   "source": [
    "from dotenv import load_dotenv\n",
    "load_dotenv()"
   ]
  },
  {
   "cell_type": "code",
   "execution_count": 2,
   "metadata": {},
   "outputs": [],
   "source": [
    "import os"
   ]
  },
  {
   "cell_type": "code",
   "execution_count": 3,
   "metadata": {},
   "outputs": [],
   "source": [
    "required_env_vars = [\n",
    "    \"NEO4J_URI\",\n",
    "    \"NEO4J_USERNAME\",\n",
    "    \"NEO4J_PASSWORD\",\n",
    "    \"OPENAI_API_KEY\",\n",
    "    \"ANTHROPIC_API_KEY\"\n",
    "]\n",
    "\n",
    "for var in required_env_vars:\n",
    "    assert os.getenv(var) , f\"Environment variable {var} is not set.\""
   ]
  },
  {
   "cell_type": "code",
   "execution_count": 2,
   "metadata": {},
   "outputs": [],
   "source": [
    "from langchain_openai import ChatOpenAI\n",
    "from langchain_anthropic import ChatAnthropic"
   ]
  },
  {
   "cell_type": "code",
   "execution_count": 22,
   "metadata": {},
   "outputs": [],
   "source": [
    "llm_anthropic = ChatAnthropic(\n",
    "    model=\"claude-3-5-sonnet-20240620\",\n",
    "    temperature=0,\n",
    "    max_tokens=4096,\n",
    "    max_retries=2\n",
    ")"
   ]
  },
  {
   "cell_type": "code",
   "execution_count": 4,
   "metadata": {},
   "outputs": [],
   "source": [
    "from langchain_core.prompts import ChatPromptTemplate"
   ]
  },
  {
   "cell_type": "code",
   "execution_count": 7,
   "metadata": {},
   "outputs": [],
   "source": [
    "system_prompt = (\n",
    "    \"# Knowledge Graph Instructions\\n\"\n",
    "    \"## 1. Overview\\n\"\n",
    "    \"You are a top-tier algorithm designed for extracting information in structured \"\n",
    "    \"formats to build a knowledge graph.\\n\"\n",
    "    \"Try to capture as much information from the text as possible without \"\n",
    "    \"sacrificing accuracy. Do not add any information that is not explicitly \"\n",
    "    \"mentioned in the text.\\n\"\n",
    "    \"- **Nodes** represent entities and concepts.\\n\"\n",
    "    \"- The aim is to achieve simplicity and clarity in the knowledge graph, making it\\n\"\n",
    "    \"accessible for a vast audience.\\n\"\n",
    "    \"## 2. Labeling Nodes\\n\"\n",
    "    \"- **Consistency**: Ensure you use available types for node labels.\\n\"\n",
    "    \"Ensure you use basic or elementary types for node labels.\\n\"\n",
    "    \"- For example, when you identify an entity representing a person, \"\n",
    "    \"always label it as **'person'**. Avoid using more specific terms \"\n",
    "    \"like 'mathematician' or 'scientist'.\"\n",
    "    \"- **Node IDs**: Never utilize integers as node IDs. Node IDs should be \"\n",
    "    \"names or human-readable identifiers found in the text.\\n\"\n",
    "    \"- **Node Names**: Create a **name** property for each node it should be names, or human-readable identifiers found in the text.\\n\"\n",
    "    \"- **Relationships** represent connections between entities or concepts.\\n\"\n",
    "    \"Ensure consistency and generality in relationship types when constructing \"\n",
    "    \"knowledge graphs. Instead of using specific and momentary types \"\n",
    "    \"such as 'BECAME_PROFESSOR', use more general and timeless relationship types \"\n",
    "    \"like 'PROFESSOR'. Make sure to use general and timeless relationship types!\\n\"\n",
    "    \"## 3. Coreference Resolution\\n\"\n",
    "    \"- **Maintain Entity Consistency**: When extracting entities, it's vital to \"\n",
    "    \"ensure consistency.\\n\"\n",
    "    'If an entity, such as \"John Doe\", is mentioned multiple times in the text '\n",
    "    'but is referred to by different names or pronouns (e.g., \"Joe\", \"he\"),'\n",
    "    \"always use the most complete identifier for that entity throughout the \"\n",
    "    'knowledge graph. In this example, use \"John Doe\" as the entity ID.\\n'\n",
    "    \"Remember, the knowledge graph should be coherent and easily understandable, \"\n",
    "    \"so maintaining consistency in entity references is crucial.\\n\"\n",
    "    \"## 4. Strict Compliance\\n\"\n",
    "    \"Adhere to the rules strictly. Non-compliance will result in termination.\"\n",
    ")\n",
    "custom_prompt = ChatPromptTemplate.from_messages(\n",
    "    [\n",
    "        (\n",
    "            \"system\",\n",
    "            system_prompt,\n",
    "        ),\n",
    "        (\n",
    "            \"human\",\n",
    "            (\n",
    "                \"Tip: Make sure to answer in the correct format and do \"\n",
    "                \"not include any explanations. \"\n",
    "                \"Make sure to **strictly** add name property for each node.\"\n",
    "                \"Remember that some information may be saved as properties of nodes and relationships, think it through add few items as properties as you see fit.\"\n",
    "                \"Use the given format to extract information from the \"\n",
    "                \"following input: {input}\"\n",
    "            ),\n",
    "        ),\n",
    "    ]\n",
    ")"
   ]
  },
  {
   "cell_type": "code",
   "execution_count": 9,
   "metadata": {},
   "outputs": [],
   "source": [
    "from langchain_experimental.graph_transformers import LLMGraphTransformer"
   ]
  },
  {
   "cell_type": "code",
   "execution_count": 24,
   "metadata": {},
   "outputs": [],
   "source": [
    "graph_maker = LLMGraphTransformer(llm=llm_anthropic, node_properties=True, relationship_properties=True, strict_mode=True, prompt=custom_prompt)"
   ]
  },
  {
   "cell_type": "code",
   "execution_count": 15,
   "metadata": {},
   "outputs": [],
   "source": [
    "from langchain_community.document_loaders import PyPDFLoader\n",
    "\n",
    "loader = PyPDFLoader(\"../sample/mango.pdf\")\n",
    "docs = loader.load()"
   ]
  },
  {
   "cell_type": "code",
   "execution_count": 17,
   "metadata": {},
   "outputs": [],
   "source": [
    "from langchain.text_splitter import RecursiveCharacterTextSplitter\n",
    "text_splitter = RecursiveCharacterTextSplitter(chunk_size=4000, chunk_overlap=100)\n",
    "text_chunks = text_splitter.split_documents(docs)"
   ]
  },
  {
   "cell_type": "code",
   "execution_count": 18,
   "metadata": {},
   "outputs": [
    {
     "data": {
      "text/plain": [
       "7"
      ]
     },
     "execution_count": 18,
     "metadata": {},
     "output_type": "execute_result"
    }
   ],
   "source": [
    "len(text_chunks)"
   ]
  },
  {
   "cell_type": "code",
   "execution_count": 25,
   "metadata": {},
   "outputs": [],
   "source": [
    "graph_documents = graph_maker.convert_to_graph_documents(text_chunks)"
   ]
  },
  {
   "cell_type": "code",
   "execution_count": 26,
   "metadata": {},
   "outputs": [
    {
     "data": {
      "text/plain": [
       "[Relationship(source=Node(id='Mango', type='Fruit'), target=Node(id='Mangifera Indica', type='Plant'), type='PRODUCED_BY'),\n",
       " Relationship(source=Node(id='Mangifera Indica', type='Plant'), target=Node(id='Mango_Fruit', type='Fruit'), type='PRODUCES'),\n",
       " Relationship(source=Node(id='Mangifera Indica', type='Plant'), target=Node(id='Mango_Leaf', type='Plant_part'), type='HAS_PART'),\n",
       " Relationship(source=Node(id='Mangifera Indica', type='Plant'), target=Node(id='Mango_Flower', type='Plant_part'), type='HAS_PART'),\n",
       " Relationship(source=Node(id='Bangladesh', type='Country'), target=Node(id='Mangifera Indica', type='Plant'), type='NATIONAL_TREE')]"
      ]
     },
     "execution_count": 26,
     "metadata": {},
     "output_type": "execute_result"
    }
   ],
   "source": [
    "graph_documents[0].nodes\n",
    "graph_documents[0].relationships"
   ]
  },
  {
   "cell_type": "code",
   "execution_count": 28,
   "metadata": {},
   "outputs": [],
   "source": [
    "from langchain_community.graphs import Neo4jGraph"
   ]
  },
  {
   "cell_type": "code",
   "execution_count": 30,
   "metadata": {},
   "outputs": [],
   "source": [
    "graph = Neo4jGraph()"
   ]
  },
  {
   "cell_type": "code",
   "execution_count": 31,
   "metadata": {},
   "outputs": [
    {
     "name": "stdout",
     "output_type": "stream",
     "text": [
      "{'node_props': {}, 'rel_props': {}, 'relationships': [], 'metadata': {'constraint': [], 'index': []}}\n"
     ]
    }
   ],
   "source": [
    "graph.refresh_schema()\n",
    "print(graph.structured_schema)"
   ]
  },
  {
   "cell_type": "code",
   "execution_count": 32,
   "metadata": {},
   "outputs": [],
   "source": [
    "graph.add_graph_documents(graph_documents)"
   ]
  },
  {
   "cell_type": "code",
   "execution_count": 39,
   "metadata": {},
   "outputs": [
    {
     "data": {
      "text/plain": [
       "{'node_props': {'Fruit': [{'property': 'id', 'type': 'STRING'},\n",
       "   {'property': 'name', 'type': 'STRING'},\n",
       "   {'property': 'national_fruit_of', 'type': 'STRING'},\n",
       "   {'property': 'scientific_name', 'type': 'STRING'},\n",
       "   {'property': 'origin', 'type': 'STRING'},\n",
       "   {'property': 'length_range', 'type': 'STRING'},\n",
       "   {'property': 'weight_range', 'type': 'STRING'},\n",
       "   {'property': 'ripening_time', 'type': 'STRING'}],\n",
       "  'Plant': [{'property': 'id', 'type': 'STRING'},\n",
       "   {'property': 'name', 'type': 'STRING'},\n",
       "   {'property': 'crown_radius', 'type': 'STRING'},\n",
       "   {'property': 'common_name', 'type': 'STRING'},\n",
       "   {'property': 'lifespan', 'type': 'STRING'},\n",
       "   {'property': 'height', 'type': 'STRING'},\n",
       "   {'property': 'scientific_name', 'type': 'STRING'}],\n",
       "  'Plant_part': [{'property': 'id', 'type': 'STRING'},\n",
       "   {'property': 'name', 'type': 'STRING'},\n",
       "   {'property': 'arrangement', 'type': 'STRING'},\n",
       "   {'property': 'shape', 'type': 'STRING'},\n",
       "   {'property': 'length', 'type': 'STRING'},\n",
       "   {'property': 'width', 'type': 'STRING'},\n",
       "   {'property': 'type', 'type': 'STRING'},\n",
       "   {'property': 'fragrance', 'type': 'STRING'},\n",
       "   {'property': 'petal_count', 'type': 'STRING'},\n",
       "   {'property': 'petal_length', 'type': 'STRING'},\n",
       "   {'property': 'panicle_length', 'type': 'STRING'},\n",
       "   {'property': 'thickness', 'type': 'STRING'}],\n",
       "  'Country': [{'property': 'id', 'type': 'STRING'},\n",
       "   {'property': 'name', 'type': 'STRING'},\n",
       "   {'property': 'production_2022', 'type': 'STRING'}],\n",
       "  'Mango': [{'property': 'id', 'type': 'STRING'},\n",
       "   {'property': 'name', 'type': 'STRING'},\n",
       "   {'property': 'type', 'type': 'STRING'},\n",
       "   {'property': 'embryony', 'type': 'STRING'}],\n",
       "  'Location': [{'property': 'id', 'type': 'STRING'},\n",
       "   {'property': 'name', 'type': 'STRING'}],\n",
       "  'Mango_group': [{'property': 'id', 'type': 'STRING'},\n",
       "   {'property': 'name', 'type': 'STRING'},\n",
       "   {'property': 'embryony', 'type': 'STRING'}],\n",
       "  'Cultivar': [{'property': 'id', 'type': 'STRING'},\n",
       "   {'property': 'name', 'type': 'STRING'},\n",
       "   {'property': 'description', 'type': 'STRING'},\n",
       "   {'property': 'origin', 'type': 'STRING'},\n",
       "   {'property': 'location', 'type': 'STRING'},\n",
       "   {'property': 'first_fruited', 'type': 'STRING'}],\n",
       "  'Organization': [{'property': 'id', 'type': 'STRING'},\n",
       "   {'property': 'name', 'type': 'STRING'},\n",
       "   {'property': 'full_name', 'type': 'STRING'}],\n",
       "  'Mango cultivar': [{'property': 'id', 'type': 'STRING'},\n",
       "   {'property': 'name', 'type': 'STRING'},\n",
       "   {'property': 'origin', 'type': 'STRING'}],\n",
       "  'Person': [{'property': 'id', 'type': 'STRING'},\n",
       "   {'property': 'name', 'type': 'STRING'},\n",
       "   {'property': 'profession', 'type': 'STRING'}],\n",
       "  'Food': [{'property': 'id', 'type': 'STRING'},\n",
       "   {'property': 'name', 'type': 'STRING'},\n",
       "   {'property': 'taste', 'type': 'STRING'},\n",
       "   {'property': 'type', 'type': 'STRING'},\n",
       "   {'property': 'description', 'type': 'STRING'},\n",
       "   {'property': 'origin', 'type': 'STRING'}],\n",
       "  'Chemical': [{'property': 'id', 'type': 'STRING'},\n",
       "   {'property': 'name', 'type': 'STRING'}],\n",
       "  'Nutrient': [{'property': 'id', 'type': 'STRING'},\n",
       "   {'property': 'name', 'type': 'STRING'},\n",
       "   {'property': 'amount', 'type': 'STRING'},\n",
       "   {'property': 'daily_value_percentage', 'type': 'STRING'}],\n",
       "  'Substance': [{'property': 'id', 'type': 'STRING'},\n",
       "   {'property': 'name', 'type': 'STRING'}]},\n",
       " 'rel_props': {'PRODUCES': [{'property': 'year', 'type': 'STRING'},\n",
       "   {'property': 'amount', 'type': 'STRING'}],\n",
       "  'INTRODUCED_TO': [{'property': 'time_period', 'type': 'STRING'},\n",
       "   {'property': 'year', 'type': 'STRING'}],\n",
       "  'DISCOVERED': [{'property': 'year', 'type': 'STRING'},\n",
       "   {'property': 'discovery', 'type': 'STRING'}]},\n",
       " 'relationships': [{'start': 'Fruit', 'type': 'PRODUCED_BY', 'end': 'Plant'},\n",
       "  {'start': 'Fruit', 'type': 'ORIGINATED_FROM', 'end': 'Location'},\n",
       "  {'start': 'Plant', 'type': 'PRODUCES', 'end': 'Fruit'},\n",
       "  {'start': 'Plant', 'type': 'HAS_PART', 'end': 'Plant_part'},\n",
       "  {'start': 'Plant', 'type': 'DOMESTICATED_IN', 'end': 'Location'},\n",
       "  {'start': 'Plant', 'type': 'INTRODUCED_TO', 'end': 'Location'},\n",
       "  {'start': 'Plant', 'type': 'CULTIVATED_IN', 'end': 'Location'},\n",
       "  {'start': 'Plant', 'type': 'NATIONAL_TREE_OF', 'end': 'Country'},\n",
       "  {'start': 'Plant_part', 'type': 'PART_OF', 'end': 'Fruit'},\n",
       "  {'start': 'Plant_part', 'type': 'CONTAINED_IN', 'end': 'Plant_part'},\n",
       "  {'start': 'Country', 'type': 'NATIONAL_TREE', 'end': 'Plant'},\n",
       "  {'start': 'Country', 'type': 'PRODUCES', 'end': 'Fruit'},\n",
       "  {'start': 'Mango', 'type': 'BELONGS_TO', 'end': 'Mango_group'},\n",
       "  {'start': 'Location', 'type': 'PART_OF', 'end': 'Country'},\n",
       "  {'start': 'Location', 'type': 'PART_OF', 'end': 'Location'},\n",
       "  {'start': 'Location', 'type': 'PRODUCES', 'end': 'Fruit'},\n",
       "  {'start': 'Cultivar', 'type': 'VARIETY_OF', 'end': 'Plant'},\n",
       "  {'start': 'Organization', 'type': 'PART_OF', 'end': 'Organization'},\n",
       "  {'start': 'Mango cultivar', 'type': 'ORIGINATES_FROM', 'end': 'Country'},\n",
       "  {'start': 'Person', 'type': 'CITIZEN_OF', 'end': 'Country'},\n",
       "  {'start': 'Person', 'type': 'DISCOVERED', 'end': 'Fruit'},\n",
       "  {'start': 'Food', 'type': 'VARIETY_OF', 'end': 'Food'},\n",
       "  {'start': 'Food', 'type': 'CONSUMED_IN', 'end': 'Location'},\n",
       "  {'start': 'Food', 'type': 'ORIGIN', 'end': 'Location'},\n",
       "  {'start': 'Food', 'type': 'INGREDIENT_OF', 'end': 'Food'},\n",
       "  {'start': 'Food', 'type': 'CONTAINS', 'end': 'Nutrient'},\n",
       "  {'start': 'Food', 'type': 'CONTAINS', 'end': 'Substance'},\n",
       "  {'start': 'Food', 'type': 'NATIONAL_FRUIT_OF', 'end': 'Country'},\n",
       "  {'start': 'Food', 'type': 'PROCESSED_INTO', 'end': 'Food'},\n",
       "  {'start': 'Food', 'type': 'IS_A_TYPE_OF', 'end': 'Food'},\n",
       "  {'start': 'Chemical', 'type': 'FLAVOR_COMPONENT', 'end': 'Food'},\n",
       "  {'start': 'Chemical', 'type': 'CONTAINS', 'end': 'Food'},\n",
       "  {'start': 'Substance', 'type': 'CROSS_REACTS_WITH', 'end': 'Substance'}],\n",
       " 'metadata': {'constraint': [], 'index': []}}"
      ]
     },
     "execution_count": 39,
     "metadata": {},
     "output_type": "execute_result"
    }
   ],
   "source": [
    "graph.refresh_schema()\n",
    "graph.structured_schema"
   ]
  },
  {
   "cell_type": "code",
   "execution_count": null,
   "metadata": {},
   "outputs": [],
   "source": []
  }
 ],
 "metadata": {
  "kernelspec": {
   "display_name": "venv",
   "language": "python",
   "name": "python3"
  },
  "language_info": {
   "codemirror_mode": {
    "name": "ipython",
    "version": 3
   },
   "file_extension": ".py",
   "mimetype": "text/x-python",
   "name": "python",
   "nbconvert_exporter": "python",
   "pygments_lexer": "ipython3",
   "version": "3.11.0"
  }
 },
 "nbformat": 4,
 "nbformat_minor": 2
}
